{
 "cells": [
  {
   "cell_type": "code",
   "execution_count": 1,
   "metadata": {
    "ExecuteTime": {
     "end_time": "2021-08-09T15:10:24.921500Z",
     "start_time": "2021-08-09T15:10:19.196190Z"
    },
    "_cell_guid": "b1076dfc-b9ad-4769-8c92-a6c4dae69d19",
    "_uuid": "8f2839f25d086af736a60e9eeb907d3b93b6e0e5",
    "execution": {
     "iopub.execute_input": "2021-07-25T13:52:37.548067Z",
     "iopub.status.busy": "2021-07-25T13:52:37.547656Z",
     "iopub.status.idle": "2021-07-25T13:52:38.095376Z",
     "shell.execute_reply": "2021-07-25T13:52:38.094392Z",
     "shell.execute_reply.started": "2021-07-25T13:52:37.548006Z"
    }
   },
   "outputs": [],
   "source": [
    "import numpy as np\n",
    "import pandas as pd\n",
    "import sklearn\n",
    "from sklearn.linear_model import LinearRegression\n",
    "from sklearn.metrics import mean_squared_error, r2_score, mean_absolute_error\n",
    "from sklearn.model_selection import cross_val_score\n",
    "from sklearn.neighbors import KNeighborsRegressor\n",
    "from xgboost import XGBRegressor\n",
    "from sklearn.ensemble import RandomForestRegressor, GradientBoostingRegressor\n",
    "from sklearn.tree import DecisionTreeRegressor\n",
    "from sklearn.linear_model import Lasso, Ridge, ElasticNet\n",
    "from statsmodels.stats.outliers_influence import variance_inflation_factor\n",
    "from sklearn.preprocessing import StandardScaler\n",
    "from sklearn.preprocessing import LabelEncoder\n",
    "import matplotlib.pyplot as plt\n",
    "import scipy as sp\n",
    "import IPython\n",
    "import sys\n",
    "import sklearn\n",
    "%matplotlib inline\n",
    "import seaborn as sns\n",
    "plt.rcParams['figure.figsize'] = (15,13)"
   ]
  },
  {
   "cell_type": "code",
   "execution_count": 2,
   "metadata": {
    "ExecuteTime": {
     "end_time": "2021-08-09T15:10:38.111706Z",
     "start_time": "2021-08-09T15:10:36.482039Z"
    },
    "execution": {
     "iopub.execute_input": "2021-07-25T13:52:38.100141Z",
     "iopub.status.busy": "2021-07-25T13:52:38.099847Z",
     "iopub.status.idle": "2021-07-25T13:52:38.167325Z",
     "shell.execute_reply": "2021-07-25T13:52:38.166431Z",
     "shell.execute_reply.started": "2021-07-25T13:52:38.100114Z"
    }
   },
   "outputs": [],
   "source": [
    "#loading the datasets\n",
    "train = pd.read_csv(\"train_AV_BFS.csv\")\n",
    "test = pd.read_csv(\"test_AV_BFS.csv\")\n",
    "sample = pd.read_csv(\"sample_AV_BFS.csv\")"
   ]
  },
  {
   "cell_type": "code",
   "execution_count": 3,
   "metadata": {
    "ExecuteTime": {
     "end_time": "2021-08-09T15:10:38.127661Z",
     "start_time": "2021-08-09T15:10:38.114697Z"
    },
    "execution": {
     "iopub.execute_input": "2021-07-25T13:52:40.561883Z",
     "iopub.status.busy": "2021-07-25T13:52:40.561497Z",
     "iopub.status.idle": "2021-07-25T13:52:40.566416Z",
     "shell.execute_reply": "2021-07-25T13:52:40.565406Z",
     "shell.execute_reply.started": "2021-07-25T13:52:40.561854Z"
    }
   },
   "outputs": [],
   "source": [
    "pd.set_option('display.max_columns', None)\n",
    "pd.set_option('display.max_rows', None)"
   ]
  },
  {
   "cell_type": "code",
   "execution_count": 4,
   "metadata": {
    "ExecuteTime": {
     "end_time": "2021-08-09T15:10:38.237617Z",
     "start_time": "2021-08-09T15:10:38.132651Z"
    },
    "execution": {
     "iopub.execute_input": "2021-07-25T13:52:41.920327Z",
     "iopub.status.busy": "2021-07-25T13:52:41.919964Z",
     "iopub.status.idle": "2021-07-25T13:52:42.028284Z",
     "shell.execute_reply": "2021-07-25T13:52:42.027338Z",
     "shell.execute_reply.started": "2021-07-25T13:52:41.920297Z"
    }
   },
   "outputs": [
    {
     "data": {
      "text/html": [
       "<div>\n",
       "<style scoped>\n",
       "    .dataframe tbody tr th:only-of-type {\n",
       "        vertical-align: middle;\n",
       "    }\n",
       "\n",
       "    .dataframe tbody tr th {\n",
       "        vertical-align: top;\n",
       "    }\n",
       "\n",
       "    .dataframe thead th {\n",
       "        text-align: right;\n",
       "    }\n",
       "</style>\n",
       "<table border=\"1\" class=\"dataframe\">\n",
       "  <thead>\n",
       "    <tr style=\"text-align: right;\">\n",
       "      <th></th>\n",
       "      <th>User_ID</th>\n",
       "      <th>Product_ID</th>\n",
       "      <th>Gender</th>\n",
       "      <th>Age</th>\n",
       "      <th>Occupation</th>\n",
       "      <th>City_Category</th>\n",
       "      <th>Stay_In_Current_City_Years</th>\n",
       "      <th>Marital_Status</th>\n",
       "      <th>Product_Category_1</th>\n",
       "      <th>Product_Category_2</th>\n",
       "      <th>Product_Category_3</th>\n",
       "      <th>Purchase</th>\n",
       "    </tr>\n",
       "  </thead>\n",
       "  <tbody>\n",
       "    <tr>\n",
       "      <th>0</th>\n",
       "      <td>1000001</td>\n",
       "      <td>P00069042</td>\n",
       "      <td>F</td>\n",
       "      <td>0-17</td>\n",
       "      <td>10</td>\n",
       "      <td>A</td>\n",
       "      <td>2</td>\n",
       "      <td>0</td>\n",
       "      <td>3</td>\n",
       "      <td>NaN</td>\n",
       "      <td>NaN</td>\n",
       "      <td>8370</td>\n",
       "    </tr>\n",
       "    <tr>\n",
       "      <th>1</th>\n",
       "      <td>1000001</td>\n",
       "      <td>P00248942</td>\n",
       "      <td>F</td>\n",
       "      <td>0-17</td>\n",
       "      <td>10</td>\n",
       "      <td>A</td>\n",
       "      <td>2</td>\n",
       "      <td>0</td>\n",
       "      <td>1</td>\n",
       "      <td>6.0</td>\n",
       "      <td>14.0</td>\n",
       "      <td>15200</td>\n",
       "    </tr>\n",
       "    <tr>\n",
       "      <th>2</th>\n",
       "      <td>1000001</td>\n",
       "      <td>P00087842</td>\n",
       "      <td>F</td>\n",
       "      <td>0-17</td>\n",
       "      <td>10</td>\n",
       "      <td>A</td>\n",
       "      <td>2</td>\n",
       "      <td>0</td>\n",
       "      <td>12</td>\n",
       "      <td>NaN</td>\n",
       "      <td>NaN</td>\n",
       "      <td>1422</td>\n",
       "    </tr>\n",
       "    <tr>\n",
       "      <th>3</th>\n",
       "      <td>1000001</td>\n",
       "      <td>P00085442</td>\n",
       "      <td>F</td>\n",
       "      <td>0-17</td>\n",
       "      <td>10</td>\n",
       "      <td>A</td>\n",
       "      <td>2</td>\n",
       "      <td>0</td>\n",
       "      <td>12</td>\n",
       "      <td>14.0</td>\n",
       "      <td>NaN</td>\n",
       "      <td>1057</td>\n",
       "    </tr>\n",
       "    <tr>\n",
       "      <th>4</th>\n",
       "      <td>1000002</td>\n",
       "      <td>P00285442</td>\n",
       "      <td>M</td>\n",
       "      <td>55+</td>\n",
       "      <td>16</td>\n",
       "      <td>C</td>\n",
       "      <td>4+</td>\n",
       "      <td>0</td>\n",
       "      <td>8</td>\n",
       "      <td>NaN</td>\n",
       "      <td>NaN</td>\n",
       "      <td>7969</td>\n",
       "    </tr>\n",
       "    <tr>\n",
       "      <th>5</th>\n",
       "      <td>1000003</td>\n",
       "      <td>P00193542</td>\n",
       "      <td>M</td>\n",
       "      <td>26-35</td>\n",
       "      <td>15</td>\n",
       "      <td>A</td>\n",
       "      <td>3</td>\n",
       "      <td>0</td>\n",
       "      <td>1</td>\n",
       "      <td>2.0</td>\n",
       "      <td>NaN</td>\n",
       "      <td>15227</td>\n",
       "    </tr>\n",
       "    <tr>\n",
       "      <th>6</th>\n",
       "      <td>1000004</td>\n",
       "      <td>P00184942</td>\n",
       "      <td>M</td>\n",
       "      <td>46-50</td>\n",
       "      <td>7</td>\n",
       "      <td>B</td>\n",
       "      <td>2</td>\n",
       "      <td>1</td>\n",
       "      <td>1</td>\n",
       "      <td>8.0</td>\n",
       "      <td>17.0</td>\n",
       "      <td>19215</td>\n",
       "    </tr>\n",
       "    <tr>\n",
       "      <th>7</th>\n",
       "      <td>1000004</td>\n",
       "      <td>P00346142</td>\n",
       "      <td>M</td>\n",
       "      <td>46-50</td>\n",
       "      <td>7</td>\n",
       "      <td>B</td>\n",
       "      <td>2</td>\n",
       "      <td>1</td>\n",
       "      <td>1</td>\n",
       "      <td>15.0</td>\n",
       "      <td>NaN</td>\n",
       "      <td>15854</td>\n",
       "    </tr>\n",
       "    <tr>\n",
       "      <th>8</th>\n",
       "      <td>1000004</td>\n",
       "      <td>P0097242</td>\n",
       "      <td>M</td>\n",
       "      <td>46-50</td>\n",
       "      <td>7</td>\n",
       "      <td>B</td>\n",
       "      <td>2</td>\n",
       "      <td>1</td>\n",
       "      <td>1</td>\n",
       "      <td>16.0</td>\n",
       "      <td>NaN</td>\n",
       "      <td>15686</td>\n",
       "    </tr>\n",
       "    <tr>\n",
       "      <th>9</th>\n",
       "      <td>1000005</td>\n",
       "      <td>P00274942</td>\n",
       "      <td>M</td>\n",
       "      <td>26-35</td>\n",
       "      <td>20</td>\n",
       "      <td>A</td>\n",
       "      <td>1</td>\n",
       "      <td>1</td>\n",
       "      <td>8</td>\n",
       "      <td>NaN</td>\n",
       "      <td>NaN</td>\n",
       "      <td>7871</td>\n",
       "    </tr>\n",
       "    <tr>\n",
       "      <th>10</th>\n",
       "      <td>1000005</td>\n",
       "      <td>P00251242</td>\n",
       "      <td>M</td>\n",
       "      <td>26-35</td>\n",
       "      <td>20</td>\n",
       "      <td>A</td>\n",
       "      <td>1</td>\n",
       "      <td>1</td>\n",
       "      <td>5</td>\n",
       "      <td>11.0</td>\n",
       "      <td>NaN</td>\n",
       "      <td>5254</td>\n",
       "    </tr>\n",
       "    <tr>\n",
       "      <th>11</th>\n",
       "      <td>1000005</td>\n",
       "      <td>P00014542</td>\n",
       "      <td>M</td>\n",
       "      <td>26-35</td>\n",
       "      <td>20</td>\n",
       "      <td>A</td>\n",
       "      <td>1</td>\n",
       "      <td>1</td>\n",
       "      <td>8</td>\n",
       "      <td>NaN</td>\n",
       "      <td>NaN</td>\n",
       "      <td>3957</td>\n",
       "    </tr>\n",
       "    <tr>\n",
       "      <th>12</th>\n",
       "      <td>1000005</td>\n",
       "      <td>P00031342</td>\n",
       "      <td>M</td>\n",
       "      <td>26-35</td>\n",
       "      <td>20</td>\n",
       "      <td>A</td>\n",
       "      <td>1</td>\n",
       "      <td>1</td>\n",
       "      <td>8</td>\n",
       "      <td>NaN</td>\n",
       "      <td>NaN</td>\n",
       "      <td>6073</td>\n",
       "    </tr>\n",
       "    <tr>\n",
       "      <th>13</th>\n",
       "      <td>1000005</td>\n",
       "      <td>P00145042</td>\n",
       "      <td>M</td>\n",
       "      <td>26-35</td>\n",
       "      <td>20</td>\n",
       "      <td>A</td>\n",
       "      <td>1</td>\n",
       "      <td>1</td>\n",
       "      <td>1</td>\n",
       "      <td>2.0</td>\n",
       "      <td>5.0</td>\n",
       "      <td>15665</td>\n",
       "    </tr>\n",
       "    <tr>\n",
       "      <th>14</th>\n",
       "      <td>1000006</td>\n",
       "      <td>P00231342</td>\n",
       "      <td>F</td>\n",
       "      <td>51-55</td>\n",
       "      <td>9</td>\n",
       "      <td>A</td>\n",
       "      <td>1</td>\n",
       "      <td>0</td>\n",
       "      <td>5</td>\n",
       "      <td>8.0</td>\n",
       "      <td>14.0</td>\n",
       "      <td>5378</td>\n",
       "    </tr>\n",
       "    <tr>\n",
       "      <th>15</th>\n",
       "      <td>1000006</td>\n",
       "      <td>P00190242</td>\n",
       "      <td>F</td>\n",
       "      <td>51-55</td>\n",
       "      <td>9</td>\n",
       "      <td>A</td>\n",
       "      <td>1</td>\n",
       "      <td>0</td>\n",
       "      <td>4</td>\n",
       "      <td>5.0</td>\n",
       "      <td>NaN</td>\n",
       "      <td>2079</td>\n",
       "    </tr>\n",
       "    <tr>\n",
       "      <th>16</th>\n",
       "      <td>1000006</td>\n",
       "      <td>P0096642</td>\n",
       "      <td>F</td>\n",
       "      <td>51-55</td>\n",
       "      <td>9</td>\n",
       "      <td>A</td>\n",
       "      <td>1</td>\n",
       "      <td>0</td>\n",
       "      <td>2</td>\n",
       "      <td>3.0</td>\n",
       "      <td>4.0</td>\n",
       "      <td>13055</td>\n",
       "    </tr>\n",
       "    <tr>\n",
       "      <th>17</th>\n",
       "      <td>1000006</td>\n",
       "      <td>P00058442</td>\n",
       "      <td>F</td>\n",
       "      <td>51-55</td>\n",
       "      <td>9</td>\n",
       "      <td>A</td>\n",
       "      <td>1</td>\n",
       "      <td>0</td>\n",
       "      <td>5</td>\n",
       "      <td>14.0</td>\n",
       "      <td>NaN</td>\n",
       "      <td>8851</td>\n",
       "    </tr>\n",
       "    <tr>\n",
       "      <th>18</th>\n",
       "      <td>1000007</td>\n",
       "      <td>P00036842</td>\n",
       "      <td>M</td>\n",
       "      <td>36-45</td>\n",
       "      <td>1</td>\n",
       "      <td>B</td>\n",
       "      <td>1</td>\n",
       "      <td>1</td>\n",
       "      <td>1</td>\n",
       "      <td>14.0</td>\n",
       "      <td>16.0</td>\n",
       "      <td>11788</td>\n",
       "    </tr>\n",
       "    <tr>\n",
       "      <th>19</th>\n",
       "      <td>1000008</td>\n",
       "      <td>P00249542</td>\n",
       "      <td>M</td>\n",
       "      <td>26-35</td>\n",
       "      <td>12</td>\n",
       "      <td>C</td>\n",
       "      <td>4+</td>\n",
       "      <td>1</td>\n",
       "      <td>1</td>\n",
       "      <td>5.0</td>\n",
       "      <td>15.0</td>\n",
       "      <td>19614</td>\n",
       "    </tr>\n",
       "    <tr>\n",
       "      <th>20</th>\n",
       "      <td>1000008</td>\n",
       "      <td>P00220442</td>\n",
       "      <td>M</td>\n",
       "      <td>26-35</td>\n",
       "      <td>12</td>\n",
       "      <td>C</td>\n",
       "      <td>4+</td>\n",
       "      <td>1</td>\n",
       "      <td>5</td>\n",
       "      <td>14.0</td>\n",
       "      <td>NaN</td>\n",
       "      <td>8584</td>\n",
       "    </tr>\n",
       "    <tr>\n",
       "      <th>21</th>\n",
       "      <td>1000008</td>\n",
       "      <td>P00156442</td>\n",
       "      <td>M</td>\n",
       "      <td>26-35</td>\n",
       "      <td>12</td>\n",
       "      <td>C</td>\n",
       "      <td>4+</td>\n",
       "      <td>1</td>\n",
       "      <td>8</td>\n",
       "      <td>NaN</td>\n",
       "      <td>NaN</td>\n",
       "      <td>9872</td>\n",
       "    </tr>\n",
       "    <tr>\n",
       "      <th>22</th>\n",
       "      <td>1000008</td>\n",
       "      <td>P00213742</td>\n",
       "      <td>M</td>\n",
       "      <td>26-35</td>\n",
       "      <td>12</td>\n",
       "      <td>C</td>\n",
       "      <td>4+</td>\n",
       "      <td>1</td>\n",
       "      <td>8</td>\n",
       "      <td>NaN</td>\n",
       "      <td>NaN</td>\n",
       "      <td>9743</td>\n",
       "    </tr>\n",
       "    <tr>\n",
       "      <th>23</th>\n",
       "      <td>1000008</td>\n",
       "      <td>P00214442</td>\n",
       "      <td>M</td>\n",
       "      <td>26-35</td>\n",
       "      <td>12</td>\n",
       "      <td>C</td>\n",
       "      <td>4+</td>\n",
       "      <td>1</td>\n",
       "      <td>8</td>\n",
       "      <td>NaN</td>\n",
       "      <td>NaN</td>\n",
       "      <td>5982</td>\n",
       "    </tr>\n",
       "    <tr>\n",
       "      <th>24</th>\n",
       "      <td>1000008</td>\n",
       "      <td>P00303442</td>\n",
       "      <td>M</td>\n",
       "      <td>26-35</td>\n",
       "      <td>12</td>\n",
       "      <td>C</td>\n",
       "      <td>4+</td>\n",
       "      <td>1</td>\n",
       "      <td>1</td>\n",
       "      <td>8.0</td>\n",
       "      <td>14.0</td>\n",
       "      <td>11927</td>\n",
       "    </tr>\n",
       "    <tr>\n",
       "      <th>25</th>\n",
       "      <td>1000009</td>\n",
       "      <td>P00135742</td>\n",
       "      <td>M</td>\n",
       "      <td>26-35</td>\n",
       "      <td>17</td>\n",
       "      <td>C</td>\n",
       "      <td>0</td>\n",
       "      <td>0</td>\n",
       "      <td>6</td>\n",
       "      <td>8.0</td>\n",
       "      <td>NaN</td>\n",
       "      <td>16662</td>\n",
       "    </tr>\n",
       "    <tr>\n",
       "      <th>26</th>\n",
       "      <td>1000009</td>\n",
       "      <td>P00039942</td>\n",
       "      <td>M</td>\n",
       "      <td>26-35</td>\n",
       "      <td>17</td>\n",
       "      <td>C</td>\n",
       "      <td>0</td>\n",
       "      <td>0</td>\n",
       "      <td>8</td>\n",
       "      <td>NaN</td>\n",
       "      <td>NaN</td>\n",
       "      <td>5887</td>\n",
       "    </tr>\n",
       "    <tr>\n",
       "      <th>27</th>\n",
       "      <td>1000009</td>\n",
       "      <td>P00161442</td>\n",
       "      <td>M</td>\n",
       "      <td>26-35</td>\n",
       "      <td>17</td>\n",
       "      <td>C</td>\n",
       "      <td>0</td>\n",
       "      <td>0</td>\n",
       "      <td>5</td>\n",
       "      <td>14.0</td>\n",
       "      <td>NaN</td>\n",
       "      <td>6973</td>\n",
       "    </tr>\n",
       "    <tr>\n",
       "      <th>28</th>\n",
       "      <td>1000009</td>\n",
       "      <td>P00078742</td>\n",
       "      <td>M</td>\n",
       "      <td>26-35</td>\n",
       "      <td>17</td>\n",
       "      <td>C</td>\n",
       "      <td>0</td>\n",
       "      <td>0</td>\n",
       "      <td>5</td>\n",
       "      <td>8.0</td>\n",
       "      <td>14.0</td>\n",
       "      <td>5391</td>\n",
       "    </tr>\n",
       "    <tr>\n",
       "      <th>29</th>\n",
       "      <td>1000010</td>\n",
       "      <td>P00085942</td>\n",
       "      <td>F</td>\n",
       "      <td>36-45</td>\n",
       "      <td>1</td>\n",
       "      <td>B</td>\n",
       "      <td>4+</td>\n",
       "      <td>1</td>\n",
       "      <td>2</td>\n",
       "      <td>4.0</td>\n",
       "      <td>8.0</td>\n",
       "      <td>16352</td>\n",
       "    </tr>\n",
       "    <tr>\n",
       "      <th>30</th>\n",
       "      <td>1000010</td>\n",
       "      <td>P00118742</td>\n",
       "      <td>F</td>\n",
       "      <td>36-45</td>\n",
       "      <td>1</td>\n",
       "      <td>B</td>\n",
       "      <td>4+</td>\n",
       "      <td>1</td>\n",
       "      <td>5</td>\n",
       "      <td>11.0</td>\n",
       "      <td>NaN</td>\n",
       "      <td>8886</td>\n",
       "    </tr>\n",
       "    <tr>\n",
       "      <th>31</th>\n",
       "      <td>1000010</td>\n",
       "      <td>P00297942</td>\n",
       "      <td>F</td>\n",
       "      <td>36-45</td>\n",
       "      <td>1</td>\n",
       "      <td>B</td>\n",
       "      <td>4+</td>\n",
       "      <td>1</td>\n",
       "      <td>8</td>\n",
       "      <td>NaN</td>\n",
       "      <td>NaN</td>\n",
       "      <td>5875</td>\n",
       "    </tr>\n",
       "    <tr>\n",
       "      <th>32</th>\n",
       "      <td>1000010</td>\n",
       "      <td>P00266842</td>\n",
       "      <td>F</td>\n",
       "      <td>36-45</td>\n",
       "      <td>1</td>\n",
       "      <td>B</td>\n",
       "      <td>4+</td>\n",
       "      <td>1</td>\n",
       "      <td>5</td>\n",
       "      <td>NaN</td>\n",
       "      <td>NaN</td>\n",
       "      <td>8854</td>\n",
       "    </tr>\n",
       "    <tr>\n",
       "      <th>33</th>\n",
       "      <td>1000010</td>\n",
       "      <td>P00058342</td>\n",
       "      <td>F</td>\n",
       "      <td>36-45</td>\n",
       "      <td>1</td>\n",
       "      <td>B</td>\n",
       "      <td>4+</td>\n",
       "      <td>1</td>\n",
       "      <td>3</td>\n",
       "      <td>4.0</td>\n",
       "      <td>NaN</td>\n",
       "      <td>10946</td>\n",
       "    </tr>\n",
       "    <tr>\n",
       "      <th>34</th>\n",
       "      <td>1000010</td>\n",
       "      <td>P00032442</td>\n",
       "      <td>F</td>\n",
       "      <td>36-45</td>\n",
       "      <td>1</td>\n",
       "      <td>B</td>\n",
       "      <td>4+</td>\n",
       "      <td>1</td>\n",
       "      <td>5</td>\n",
       "      <td>NaN</td>\n",
       "      <td>NaN</td>\n",
       "      <td>5152</td>\n",
       "    </tr>\n",
       "    <tr>\n",
       "      <th>35</th>\n",
       "      <td>1000010</td>\n",
       "      <td>P00105942</td>\n",
       "      <td>F</td>\n",
       "      <td>36-45</td>\n",
       "      <td>1</td>\n",
       "      <td>B</td>\n",
       "      <td>4+</td>\n",
       "      <td>1</td>\n",
       "      <td>5</td>\n",
       "      <td>NaN</td>\n",
       "      <td>NaN</td>\n",
       "      <td>7089</td>\n",
       "    </tr>\n",
       "    <tr>\n",
       "      <th>36</th>\n",
       "      <td>1000010</td>\n",
       "      <td>P00182642</td>\n",
       "      <td>F</td>\n",
       "      <td>36-45</td>\n",
       "      <td>1</td>\n",
       "      <td>B</td>\n",
       "      <td>4+</td>\n",
       "      <td>1</td>\n",
       "      <td>2</td>\n",
       "      <td>4.0</td>\n",
       "      <td>9.0</td>\n",
       "      <td>12909</td>\n",
       "    </tr>\n",
       "    <tr>\n",
       "      <th>37</th>\n",
       "      <td>1000010</td>\n",
       "      <td>P00186942</td>\n",
       "      <td>F</td>\n",
       "      <td>36-45</td>\n",
       "      <td>1</td>\n",
       "      <td>B</td>\n",
       "      <td>4+</td>\n",
       "      <td>1</td>\n",
       "      <td>5</td>\n",
       "      <td>12.0</td>\n",
       "      <td>NaN</td>\n",
       "      <td>8770</td>\n",
       "    </tr>\n",
       "    <tr>\n",
       "      <th>38</th>\n",
       "      <td>1000010</td>\n",
       "      <td>P00155442</td>\n",
       "      <td>F</td>\n",
       "      <td>36-45</td>\n",
       "      <td>1</td>\n",
       "      <td>B</td>\n",
       "      <td>4+</td>\n",
       "      <td>1</td>\n",
       "      <td>1</td>\n",
       "      <td>11.0</td>\n",
       "      <td>15.0</td>\n",
       "      <td>15212</td>\n",
       "    </tr>\n",
       "    <tr>\n",
       "      <th>39</th>\n",
       "      <td>1000010</td>\n",
       "      <td>P00221342</td>\n",
       "      <td>F</td>\n",
       "      <td>36-45</td>\n",
       "      <td>1</td>\n",
       "      <td>B</td>\n",
       "      <td>4+</td>\n",
       "      <td>1</td>\n",
       "      <td>1</td>\n",
       "      <td>2.0</td>\n",
       "      <td>5.0</td>\n",
       "      <td>15705</td>\n",
       "    </tr>\n",
       "    <tr>\n",
       "      <th>40</th>\n",
       "      <td>1000010</td>\n",
       "      <td>P00087242</td>\n",
       "      <td>F</td>\n",
       "      <td>36-45</td>\n",
       "      <td>1</td>\n",
       "      <td>B</td>\n",
       "      <td>4+</td>\n",
       "      <td>1</td>\n",
       "      <td>14</td>\n",
       "      <td>NaN</td>\n",
       "      <td>NaN</td>\n",
       "      <td>7947</td>\n",
       "    </tr>\n",
       "    <tr>\n",
       "      <th>41</th>\n",
       "      <td>1000010</td>\n",
       "      <td>P00111142</td>\n",
       "      <td>F</td>\n",
       "      <td>36-45</td>\n",
       "      <td>1</td>\n",
       "      <td>B</td>\n",
       "      <td>4+</td>\n",
       "      <td>1</td>\n",
       "      <td>1</td>\n",
       "      <td>15.0</td>\n",
       "      <td>16.0</td>\n",
       "      <td>18963</td>\n",
       "    </tr>\n",
       "    <tr>\n",
       "      <th>42</th>\n",
       "      <td>1000010</td>\n",
       "      <td>P00259342</td>\n",
       "      <td>F</td>\n",
       "      <td>36-45</td>\n",
       "      <td>1</td>\n",
       "      <td>B</td>\n",
       "      <td>4+</td>\n",
       "      <td>1</td>\n",
       "      <td>5</td>\n",
       "      <td>9.0</td>\n",
       "      <td>NaN</td>\n",
       "      <td>8718</td>\n",
       "    </tr>\n",
       "    <tr>\n",
       "      <th>43</th>\n",
       "      <td>1000010</td>\n",
       "      <td>P0094542</td>\n",
       "      <td>F</td>\n",
       "      <td>36-45</td>\n",
       "      <td>1</td>\n",
       "      <td>B</td>\n",
       "      <td>4+</td>\n",
       "      <td>1</td>\n",
       "      <td>2</td>\n",
       "      <td>4.0</td>\n",
       "      <td>9.0</td>\n",
       "      <td>16406</td>\n",
       "    </tr>\n",
       "    <tr>\n",
       "      <th>44</th>\n",
       "      <td>1000010</td>\n",
       "      <td>P00148642</td>\n",
       "      <td>F</td>\n",
       "      <td>36-45</td>\n",
       "      <td>1</td>\n",
       "      <td>B</td>\n",
       "      <td>4+</td>\n",
       "      <td>1</td>\n",
       "      <td>6</td>\n",
       "      <td>10.0</td>\n",
       "      <td>13.0</td>\n",
       "      <td>12642</td>\n",
       "    </tr>\n",
       "    <tr>\n",
       "      <th>45</th>\n",
       "      <td>1000010</td>\n",
       "      <td>P00312142</td>\n",
       "      <td>F</td>\n",
       "      <td>36-45</td>\n",
       "      <td>1</td>\n",
       "      <td>B</td>\n",
       "      <td>4+</td>\n",
       "      <td>1</td>\n",
       "      <td>8</td>\n",
       "      <td>NaN</td>\n",
       "      <td>NaN</td>\n",
       "      <td>10007</td>\n",
       "    </tr>\n",
       "    <tr>\n",
       "      <th>46</th>\n",
       "      <td>1000010</td>\n",
       "      <td>P00113242</td>\n",
       "      <td>F</td>\n",
       "      <td>36-45</td>\n",
       "      <td>1</td>\n",
       "      <td>B</td>\n",
       "      <td>4+</td>\n",
       "      <td>1</td>\n",
       "      <td>1</td>\n",
       "      <td>6.0</td>\n",
       "      <td>8.0</td>\n",
       "      <td>11562</td>\n",
       "    </tr>\n",
       "    <tr>\n",
       "      <th>47</th>\n",
       "      <td>1000011</td>\n",
       "      <td>P00192642</td>\n",
       "      <td>F</td>\n",
       "      <td>26-35</td>\n",
       "      <td>1</td>\n",
       "      <td>C</td>\n",
       "      <td>1</td>\n",
       "      <td>0</td>\n",
       "      <td>8</td>\n",
       "      <td>17.0</td>\n",
       "      <td>NaN</td>\n",
       "      <td>6171</td>\n",
       "    </tr>\n",
       "    <tr>\n",
       "      <th>48</th>\n",
       "      <td>1000011</td>\n",
       "      <td>P00110842</td>\n",
       "      <td>F</td>\n",
       "      <td>26-35</td>\n",
       "      <td>1</td>\n",
       "      <td>C</td>\n",
       "      <td>1</td>\n",
       "      <td>0</td>\n",
       "      <td>1</td>\n",
       "      <td>2.0</td>\n",
       "      <td>5.0</td>\n",
       "      <td>19327</td>\n",
       "    </tr>\n",
       "    <tr>\n",
       "      <th>49</th>\n",
       "      <td>1000011</td>\n",
       "      <td>P00189642</td>\n",
       "      <td>F</td>\n",
       "      <td>26-35</td>\n",
       "      <td>1</td>\n",
       "      <td>C</td>\n",
       "      <td>1</td>\n",
       "      <td>0</td>\n",
       "      <td>8</td>\n",
       "      <td>13.0</td>\n",
       "      <td>NaN</td>\n",
       "      <td>8027</td>\n",
       "    </tr>\n",
       "  </tbody>\n",
       "</table>\n",
       "</div>"
      ],
      "text/plain": [
       "    User_ID Product_ID Gender    Age  Occupation City_Category  \\\n",
       "0   1000001  P00069042      F   0-17          10             A   \n",
       "1   1000001  P00248942      F   0-17          10             A   \n",
       "2   1000001  P00087842      F   0-17          10             A   \n",
       "3   1000001  P00085442      F   0-17          10             A   \n",
       "4   1000002  P00285442      M    55+          16             C   \n",
       "5   1000003  P00193542      M  26-35          15             A   \n",
       "6   1000004  P00184942      M  46-50           7             B   \n",
       "7   1000004  P00346142      M  46-50           7             B   \n",
       "8   1000004   P0097242      M  46-50           7             B   \n",
       "9   1000005  P00274942      M  26-35          20             A   \n",
       "10  1000005  P00251242      M  26-35          20             A   \n",
       "11  1000005  P00014542      M  26-35          20             A   \n",
       "12  1000005  P00031342      M  26-35          20             A   \n",
       "13  1000005  P00145042      M  26-35          20             A   \n",
       "14  1000006  P00231342      F  51-55           9             A   \n",
       "15  1000006  P00190242      F  51-55           9             A   \n",
       "16  1000006   P0096642      F  51-55           9             A   \n",
       "17  1000006  P00058442      F  51-55           9             A   \n",
       "18  1000007  P00036842      M  36-45           1             B   \n",
       "19  1000008  P00249542      M  26-35          12             C   \n",
       "20  1000008  P00220442      M  26-35          12             C   \n",
       "21  1000008  P00156442      M  26-35          12             C   \n",
       "22  1000008  P00213742      M  26-35          12             C   \n",
       "23  1000008  P00214442      M  26-35          12             C   \n",
       "24  1000008  P00303442      M  26-35          12             C   \n",
       "25  1000009  P00135742      M  26-35          17             C   \n",
       "26  1000009  P00039942      M  26-35          17             C   \n",
       "27  1000009  P00161442      M  26-35          17             C   \n",
       "28  1000009  P00078742      M  26-35          17             C   \n",
       "29  1000010  P00085942      F  36-45           1             B   \n",
       "30  1000010  P00118742      F  36-45           1             B   \n",
       "31  1000010  P00297942      F  36-45           1             B   \n",
       "32  1000010  P00266842      F  36-45           1             B   \n",
       "33  1000010  P00058342      F  36-45           1             B   \n",
       "34  1000010  P00032442      F  36-45           1             B   \n",
       "35  1000010  P00105942      F  36-45           1             B   \n",
       "36  1000010  P00182642      F  36-45           1             B   \n",
       "37  1000010  P00186942      F  36-45           1             B   \n",
       "38  1000010  P00155442      F  36-45           1             B   \n",
       "39  1000010  P00221342      F  36-45           1             B   \n",
       "40  1000010  P00087242      F  36-45           1             B   \n",
       "41  1000010  P00111142      F  36-45           1             B   \n",
       "42  1000010  P00259342      F  36-45           1             B   \n",
       "43  1000010   P0094542      F  36-45           1             B   \n",
       "44  1000010  P00148642      F  36-45           1             B   \n",
       "45  1000010  P00312142      F  36-45           1             B   \n",
       "46  1000010  P00113242      F  36-45           1             B   \n",
       "47  1000011  P00192642      F  26-35           1             C   \n",
       "48  1000011  P00110842      F  26-35           1             C   \n",
       "49  1000011  P00189642      F  26-35           1             C   \n",
       "\n",
       "   Stay_In_Current_City_Years  Marital_Status  Product_Category_1  \\\n",
       "0                           2               0                   3   \n",
       "1                           2               0                   1   \n",
       "2                           2               0                  12   \n",
       "3                           2               0                  12   \n",
       "4                          4+               0                   8   \n",
       "5                           3               0                   1   \n",
       "6                           2               1                   1   \n",
       "7                           2               1                   1   \n",
       "8                           2               1                   1   \n",
       "9                           1               1                   8   \n",
       "10                          1               1                   5   \n",
       "11                          1               1                   8   \n",
       "12                          1               1                   8   \n",
       "13                          1               1                   1   \n",
       "14                          1               0                   5   \n",
       "15                          1               0                   4   \n",
       "16                          1               0                   2   \n",
       "17                          1               0                   5   \n",
       "18                          1               1                   1   \n",
       "19                         4+               1                   1   \n",
       "20                         4+               1                   5   \n",
       "21                         4+               1                   8   \n",
       "22                         4+               1                   8   \n",
       "23                         4+               1                   8   \n",
       "24                         4+               1                   1   \n",
       "25                          0               0                   6   \n",
       "26                          0               0                   8   \n",
       "27                          0               0                   5   \n",
       "28                          0               0                   5   \n",
       "29                         4+               1                   2   \n",
       "30                         4+               1                   5   \n",
       "31                         4+               1                   8   \n",
       "32                         4+               1                   5   \n",
       "33                         4+               1                   3   \n",
       "34                         4+               1                   5   \n",
       "35                         4+               1                   5   \n",
       "36                         4+               1                   2   \n",
       "37                         4+               1                   5   \n",
       "38                         4+               1                   1   \n",
       "39                         4+               1                   1   \n",
       "40                         4+               1                  14   \n",
       "41                         4+               1                   1   \n",
       "42                         4+               1                   5   \n",
       "43                         4+               1                   2   \n",
       "44                         4+               1                   6   \n",
       "45                         4+               1                   8   \n",
       "46                         4+               1                   1   \n",
       "47                          1               0                   8   \n",
       "48                          1               0                   1   \n",
       "49                          1               0                   8   \n",
       "\n",
       "    Product_Category_2  Product_Category_3  Purchase  \n",
       "0                  NaN                 NaN      8370  \n",
       "1                  6.0                14.0     15200  \n",
       "2                  NaN                 NaN      1422  \n",
       "3                 14.0                 NaN      1057  \n",
       "4                  NaN                 NaN      7969  \n",
       "5                  2.0                 NaN     15227  \n",
       "6                  8.0                17.0     19215  \n",
       "7                 15.0                 NaN     15854  \n",
       "8                 16.0                 NaN     15686  \n",
       "9                  NaN                 NaN      7871  \n",
       "10                11.0                 NaN      5254  \n",
       "11                 NaN                 NaN      3957  \n",
       "12                 NaN                 NaN      6073  \n",
       "13                 2.0                 5.0     15665  \n",
       "14                 8.0                14.0      5378  \n",
       "15                 5.0                 NaN      2079  \n",
       "16                 3.0                 4.0     13055  \n",
       "17                14.0                 NaN      8851  \n",
       "18                14.0                16.0     11788  \n",
       "19                 5.0                15.0     19614  \n",
       "20                14.0                 NaN      8584  \n",
       "21                 NaN                 NaN      9872  \n",
       "22                 NaN                 NaN      9743  \n",
       "23                 NaN                 NaN      5982  \n",
       "24                 8.0                14.0     11927  \n",
       "25                 8.0                 NaN     16662  \n",
       "26                 NaN                 NaN      5887  \n",
       "27                14.0                 NaN      6973  \n",
       "28                 8.0                14.0      5391  \n",
       "29                 4.0                 8.0     16352  \n",
       "30                11.0                 NaN      8886  \n",
       "31                 NaN                 NaN      5875  \n",
       "32                 NaN                 NaN      8854  \n",
       "33                 4.0                 NaN     10946  \n",
       "34                 NaN                 NaN      5152  \n",
       "35                 NaN                 NaN      7089  \n",
       "36                 4.0                 9.0     12909  \n",
       "37                12.0                 NaN      8770  \n",
       "38                11.0                15.0     15212  \n",
       "39                 2.0                 5.0     15705  \n",
       "40                 NaN                 NaN      7947  \n",
       "41                15.0                16.0     18963  \n",
       "42                 9.0                 NaN      8718  \n",
       "43                 4.0                 9.0     16406  \n",
       "44                10.0                13.0     12642  \n",
       "45                 NaN                 NaN     10007  \n",
       "46                 6.0                 8.0     11562  \n",
       "47                17.0                 NaN      6171  \n",
       "48                 2.0                 5.0     19327  \n",
       "49                13.0                 NaN      8027  "
      ]
     },
     "execution_count": 4,
     "metadata": {},
     "output_type": "execute_result"
    }
   ],
   "source": [
    "#view on train dataset\n",
    "train.head(50)"
   ]
  },
  {
   "cell_type": "code",
   "execution_count": 5,
   "metadata": {
    "ExecuteTime": {
     "end_time": "2021-08-09T15:10:38.253571Z",
     "start_time": "2021-08-09T15:10:38.241603Z"
    },
    "execution": {
     "iopub.execute_input": "2021-07-25T13:52:43.291846Z",
     "iopub.status.busy": "2021-07-25T13:52:43.291444Z",
     "iopub.status.idle": "2021-07-25T13:52:43.298215Z",
     "shell.execute_reply": "2021-07-25T13:52:43.296950Z",
     "shell.execute_reply.started": "2021-07-25T13:52:43.291810Z"
    }
   },
   "outputs": [
    {
     "data": {
      "text/plain": [
       "(550068, 12)"
      ]
     },
     "execution_count": 5,
     "metadata": {},
     "output_type": "execute_result"
    }
   ],
   "source": [
    "#shape of trainset\n",
    "train.shape"
   ]
  },
  {
   "cell_type": "code",
   "execution_count": 6,
   "metadata": {
    "ExecuteTime": {
     "end_time": "2021-08-09T15:10:38.285485Z",
     "start_time": "2021-08-09T15:10:38.256563Z"
    },
    "execution": {
     "iopub.execute_input": "2021-07-25T13:52:44.412755Z",
     "iopub.status.busy": "2021-07-25T13:52:44.412340Z",
     "iopub.status.idle": "2021-07-25T13:52:44.520443Z",
     "shell.execute_reply": "2021-07-25T13:52:44.519363Z",
     "shell.execute_reply.started": "2021-07-25T13:52:44.412723Z"
    }
   },
   "outputs": [
    {
     "data": {
      "text/html": [
       "<div>\n",
       "<style scoped>\n",
       "    .dataframe tbody tr th:only-of-type {\n",
       "        vertical-align: middle;\n",
       "    }\n",
       "\n",
       "    .dataframe tbody tr th {\n",
       "        vertical-align: top;\n",
       "    }\n",
       "\n",
       "    .dataframe thead th {\n",
       "        text-align: right;\n",
       "    }\n",
       "</style>\n",
       "<table border=\"1\" class=\"dataframe\">\n",
       "  <thead>\n",
       "    <tr style=\"text-align: right;\">\n",
       "      <th></th>\n",
       "      <th>User_ID</th>\n",
       "      <th>Product_ID</th>\n",
       "      <th>Gender</th>\n",
       "      <th>Age</th>\n",
       "      <th>Occupation</th>\n",
       "      <th>City_Category</th>\n",
       "      <th>Stay_In_Current_City_Years</th>\n",
       "      <th>Marital_Status</th>\n",
       "      <th>Product_Category_1</th>\n",
       "      <th>Product_Category_2</th>\n",
       "      <th>Product_Category_3</th>\n",
       "    </tr>\n",
       "  </thead>\n",
       "  <tbody>\n",
       "    <tr>\n",
       "      <th>0</th>\n",
       "      <td>1000004</td>\n",
       "      <td>P00128942</td>\n",
       "      <td>M</td>\n",
       "      <td>46-50</td>\n",
       "      <td>7</td>\n",
       "      <td>B</td>\n",
       "      <td>2</td>\n",
       "      <td>1</td>\n",
       "      <td>1</td>\n",
       "      <td>11.0</td>\n",
       "      <td>NaN</td>\n",
       "    </tr>\n",
       "    <tr>\n",
       "      <th>1</th>\n",
       "      <td>1000009</td>\n",
       "      <td>P00113442</td>\n",
       "      <td>M</td>\n",
       "      <td>26-35</td>\n",
       "      <td>17</td>\n",
       "      <td>C</td>\n",
       "      <td>0</td>\n",
       "      <td>0</td>\n",
       "      <td>3</td>\n",
       "      <td>5.0</td>\n",
       "      <td>NaN</td>\n",
       "    </tr>\n",
       "    <tr>\n",
       "      <th>2</th>\n",
       "      <td>1000010</td>\n",
       "      <td>P00288442</td>\n",
       "      <td>F</td>\n",
       "      <td>36-45</td>\n",
       "      <td>1</td>\n",
       "      <td>B</td>\n",
       "      <td>4+</td>\n",
       "      <td>1</td>\n",
       "      <td>5</td>\n",
       "      <td>14.0</td>\n",
       "      <td>NaN</td>\n",
       "    </tr>\n",
       "    <tr>\n",
       "      <th>3</th>\n",
       "      <td>1000010</td>\n",
       "      <td>P00145342</td>\n",
       "      <td>F</td>\n",
       "      <td>36-45</td>\n",
       "      <td>1</td>\n",
       "      <td>B</td>\n",
       "      <td>4+</td>\n",
       "      <td>1</td>\n",
       "      <td>4</td>\n",
       "      <td>9.0</td>\n",
       "      <td>NaN</td>\n",
       "    </tr>\n",
       "    <tr>\n",
       "      <th>4</th>\n",
       "      <td>1000011</td>\n",
       "      <td>P00053842</td>\n",
       "      <td>F</td>\n",
       "      <td>26-35</td>\n",
       "      <td>1</td>\n",
       "      <td>C</td>\n",
       "      <td>1</td>\n",
       "      <td>0</td>\n",
       "      <td>4</td>\n",
       "      <td>5.0</td>\n",
       "      <td>12.0</td>\n",
       "    </tr>\n",
       "  </tbody>\n",
       "</table>\n",
       "</div>"
      ],
      "text/plain": [
       "   User_ID Product_ID Gender    Age  Occupation City_Category  \\\n",
       "0  1000004  P00128942      M  46-50           7             B   \n",
       "1  1000009  P00113442      M  26-35          17             C   \n",
       "2  1000010  P00288442      F  36-45           1             B   \n",
       "3  1000010  P00145342      F  36-45           1             B   \n",
       "4  1000011  P00053842      F  26-35           1             C   \n",
       "\n",
       "  Stay_In_Current_City_Years  Marital_Status  Product_Category_1  \\\n",
       "0                          2               1                   1   \n",
       "1                          0               0                   3   \n",
       "2                         4+               1                   5   \n",
       "3                         4+               1                   4   \n",
       "4                          1               0                   4   \n",
       "\n",
       "   Product_Category_2  Product_Category_3  \n",
       "0                11.0                 NaN  \n",
       "1                 5.0                 NaN  \n",
       "2                14.0                 NaN  \n",
       "3                 9.0                 NaN  \n",
       "4                 5.0                12.0  "
      ]
     },
     "execution_count": 6,
     "metadata": {},
     "output_type": "execute_result"
    }
   ],
   "source": [
    "#view on test dataset\n",
    "test.head()"
   ]
  },
  {
   "cell_type": "code",
   "execution_count": 7,
   "metadata": {
    "ExecuteTime": {
     "end_time": "2021-08-09T15:10:38.834815Z",
     "start_time": "2021-08-09T15:10:38.825839Z"
    },
    "execution": {
     "iopub.execute_input": "2021-07-25T13:52:45.615943Z",
     "iopub.status.busy": "2021-07-25T13:52:45.615435Z",
     "iopub.status.idle": "2021-07-25T13:52:45.625204Z",
     "shell.execute_reply": "2021-07-25T13:52:45.624031Z",
     "shell.execute_reply.started": "2021-07-25T13:52:45.615898Z"
    }
   },
   "outputs": [
    {
     "data": {
      "text/plain": [
       "(233599, 11)"
      ]
     },
     "execution_count": 7,
     "metadata": {},
     "output_type": "execute_result"
    }
   ],
   "source": [
    "#shape of testset\n",
    "test.shape"
   ]
  },
  {
   "cell_type": "code",
   "execution_count": 8,
   "metadata": {
    "ExecuteTime": {
     "end_time": "2021-08-09T15:10:39.331484Z",
     "start_time": "2021-08-09T15:10:39.311538Z"
    },
    "execution": {
     "iopub.execute_input": "2021-07-25T13:52:46.627735Z",
     "iopub.status.busy": "2021-07-25T13:52:46.627350Z",
     "iopub.status.idle": "2021-07-25T13:52:46.644261Z",
     "shell.execute_reply": "2021-07-25T13:52:46.643329Z",
     "shell.execute_reply.started": "2021-07-25T13:52:46.627702Z"
    }
   },
   "outputs": [
    {
     "data": {
      "text/html": [
       "<div>\n",
       "<style scoped>\n",
       "    .dataframe tbody tr th:only-of-type {\n",
       "        vertical-align: middle;\n",
       "    }\n",
       "\n",
       "    .dataframe tbody tr th {\n",
       "        vertical-align: top;\n",
       "    }\n",
       "\n",
       "    .dataframe thead th {\n",
       "        text-align: right;\n",
       "    }\n",
       "</style>\n",
       "<table border=\"1\" class=\"dataframe\">\n",
       "  <thead>\n",
       "    <tr style=\"text-align: right;\">\n",
       "      <th></th>\n",
       "      <th>Purchase</th>\n",
       "      <th>User_ID</th>\n",
       "      <th>Product_ID</th>\n",
       "    </tr>\n",
       "  </thead>\n",
       "  <tbody>\n",
       "    <tr>\n",
       "      <th>0</th>\n",
       "      <td>100</td>\n",
       "      <td>1000004</td>\n",
       "      <td>P00128942</td>\n",
       "    </tr>\n",
       "    <tr>\n",
       "      <th>1</th>\n",
       "      <td>100</td>\n",
       "      <td>1000009</td>\n",
       "      <td>P00113442</td>\n",
       "    </tr>\n",
       "    <tr>\n",
       "      <th>2</th>\n",
       "      <td>100</td>\n",
       "      <td>1000010</td>\n",
       "      <td>P00288442</td>\n",
       "    </tr>\n",
       "    <tr>\n",
       "      <th>3</th>\n",
       "      <td>100</td>\n",
       "      <td>1000010</td>\n",
       "      <td>P00145342</td>\n",
       "    </tr>\n",
       "    <tr>\n",
       "      <th>4</th>\n",
       "      <td>100</td>\n",
       "      <td>1000011</td>\n",
       "      <td>P00053842</td>\n",
       "    </tr>\n",
       "  </tbody>\n",
       "</table>\n",
       "</div>"
      ],
      "text/plain": [
       "   Purchase  User_ID Product_ID\n",
       "0       100  1000004  P00128942\n",
       "1       100  1000009  P00113442\n",
       "2       100  1000010  P00288442\n",
       "3       100  1000010  P00145342\n",
       "4       100  1000011  P00053842"
      ]
     },
     "execution_count": 8,
     "metadata": {},
     "output_type": "execute_result"
    }
   ],
   "source": [
    "#view on sample submission dataset\n",
    "sample.head()"
   ]
  },
  {
   "cell_type": "code",
   "execution_count": 9,
   "metadata": {
    "ExecuteTime": {
     "end_time": "2021-08-09T15:10:39.782054Z",
     "start_time": "2021-08-09T15:10:39.761081Z"
    },
    "execution": {
     "iopub.execute_input": "2021-07-25T13:52:47.402581Z",
     "iopub.status.busy": "2021-07-25T13:52:47.402189Z",
     "iopub.status.idle": "2021-07-25T13:52:47.409088Z",
     "shell.execute_reply": "2021-07-25T13:52:47.407898Z",
     "shell.execute_reply.started": "2021-07-25T13:52:47.402547Z"
    }
   },
   "outputs": [
    {
     "data": {
      "text/plain": [
       "(233599, 3)"
      ]
     },
     "execution_count": 9,
     "metadata": {},
     "output_type": "execute_result"
    }
   ],
   "source": [
    "#view on sample dataset\n",
    "sample.shape"
   ]
  },
  {
   "cell_type": "code",
   "execution_count": 10,
   "metadata": {
    "ExecuteTime": {
     "end_time": "2021-08-09T15:10:40.563040Z",
     "start_time": "2021-08-09T15:10:40.298095Z"
    },
    "execution": {
     "iopub.execute_input": "2021-07-25T13:52:49.808825Z",
     "iopub.status.busy": "2021-07-25T13:52:49.808441Z",
     "iopub.status.idle": "2021-07-25T13:52:49.840695Z",
     "shell.execute_reply": "2021-07-25T13:52:49.839800Z",
     "shell.execute_reply.started": "2021-07-25T13:52:49.808795Z"
    },
    "scrolled": true
   },
   "outputs": [
    {
     "name": "stdout",
     "output_type": "stream",
     "text": [
      "<class 'pandas.core.frame.DataFrame'>\n",
      "RangeIndex: 550068 entries, 0 to 550067\n",
      "Data columns (total 12 columns):\n",
      " #   Column                      Non-Null Count   Dtype  \n",
      "---  ------                      --------------   -----  \n",
      " 0   User_ID                     550068 non-null  int64  \n",
      " 1   Product_ID                  550068 non-null  object \n",
      " 2   Gender                      550068 non-null  object \n",
      " 3   Age                         550068 non-null  object \n",
      " 4   Occupation                  550068 non-null  int64  \n",
      " 5   City_Category               550068 non-null  object \n",
      " 6   Stay_In_Current_City_Years  550068 non-null  object \n",
      " 7   Marital_Status              550068 non-null  int64  \n",
      " 8   Product_Category_1          550068 non-null  int64  \n",
      " 9   Product_Category_2          376430 non-null  float64\n",
      " 10  Product_Category_3          166821 non-null  float64\n",
      " 11  Purchase                    550068 non-null  int64  \n",
      "dtypes: float64(2), int64(5), object(5)\n",
      "memory usage: 50.4+ MB\n"
     ]
    }
   ],
   "source": [
    "#information about the train dataset\n",
    "train.info()"
   ]
  },
  {
   "cell_type": "code",
   "execution_count": 11,
   "metadata": {
    "ExecuteTime": {
     "end_time": "2021-08-09T15:10:42.223032Z",
     "start_time": "2021-08-09T15:10:41.196036Z"
    },
    "execution": {
     "iopub.execute_input": "2021-07-25T13:52:50.647016Z",
     "iopub.status.busy": "2021-07-25T13:52:50.646646Z",
     "iopub.status.idle": "2021-07-25T13:52:50.905839Z",
     "shell.execute_reply": "2021-07-25T13:52:50.904639Z",
     "shell.execute_reply.started": "2021-07-25T13:52:50.646988Z"
    }
   },
   "outputs": [
    {
     "data": {
      "text/html": [
       "<div>\n",
       "<style scoped>\n",
       "    .dataframe tbody tr th:only-of-type {\n",
       "        vertical-align: middle;\n",
       "    }\n",
       "\n",
       "    .dataframe tbody tr th {\n",
       "        vertical-align: top;\n",
       "    }\n",
       "\n",
       "    .dataframe thead th {\n",
       "        text-align: right;\n",
       "    }\n",
       "</style>\n",
       "<table border=\"1\" class=\"dataframe\">\n",
       "  <thead>\n",
       "    <tr style=\"text-align: right;\">\n",
       "      <th></th>\n",
       "      <th>User_ID</th>\n",
       "      <th>Product_ID</th>\n",
       "      <th>Gender</th>\n",
       "      <th>Age</th>\n",
       "      <th>Occupation</th>\n",
       "      <th>City_Category</th>\n",
       "      <th>Stay_In_Current_City_Years</th>\n",
       "      <th>Marital_Status</th>\n",
       "      <th>Product_Category_1</th>\n",
       "      <th>Product_Category_2</th>\n",
       "      <th>Product_Category_3</th>\n",
       "      <th>Purchase</th>\n",
       "    </tr>\n",
       "  </thead>\n",
       "  <tbody>\n",
       "    <tr>\n",
       "      <th>count</th>\n",
       "      <td>5.500680e+05</td>\n",
       "      <td>550068</td>\n",
       "      <td>550068</td>\n",
       "      <td>550068</td>\n",
       "      <td>550068.000000</td>\n",
       "      <td>550068</td>\n",
       "      <td>550068</td>\n",
       "      <td>550068.000000</td>\n",
       "      <td>550068.000000</td>\n",
       "      <td>376430.000000</td>\n",
       "      <td>166821.000000</td>\n",
       "      <td>550068.000000</td>\n",
       "    </tr>\n",
       "    <tr>\n",
       "      <th>unique</th>\n",
       "      <td>NaN</td>\n",
       "      <td>3631</td>\n",
       "      <td>2</td>\n",
       "      <td>7</td>\n",
       "      <td>NaN</td>\n",
       "      <td>3</td>\n",
       "      <td>5</td>\n",
       "      <td>NaN</td>\n",
       "      <td>NaN</td>\n",
       "      <td>NaN</td>\n",
       "      <td>NaN</td>\n",
       "      <td>NaN</td>\n",
       "    </tr>\n",
       "    <tr>\n",
       "      <th>top</th>\n",
       "      <td>NaN</td>\n",
       "      <td>P00265242</td>\n",
       "      <td>M</td>\n",
       "      <td>26-35</td>\n",
       "      <td>NaN</td>\n",
       "      <td>B</td>\n",
       "      <td>1</td>\n",
       "      <td>NaN</td>\n",
       "      <td>NaN</td>\n",
       "      <td>NaN</td>\n",
       "      <td>NaN</td>\n",
       "      <td>NaN</td>\n",
       "    </tr>\n",
       "    <tr>\n",
       "      <th>freq</th>\n",
       "      <td>NaN</td>\n",
       "      <td>1880</td>\n",
       "      <td>414259</td>\n",
       "      <td>219587</td>\n",
       "      <td>NaN</td>\n",
       "      <td>231173</td>\n",
       "      <td>193821</td>\n",
       "      <td>NaN</td>\n",
       "      <td>NaN</td>\n",
       "      <td>NaN</td>\n",
       "      <td>NaN</td>\n",
       "      <td>NaN</td>\n",
       "    </tr>\n",
       "    <tr>\n",
       "      <th>mean</th>\n",
       "      <td>1.003029e+06</td>\n",
       "      <td>NaN</td>\n",
       "      <td>NaN</td>\n",
       "      <td>NaN</td>\n",
       "      <td>8.076707</td>\n",
       "      <td>NaN</td>\n",
       "      <td>NaN</td>\n",
       "      <td>0.409653</td>\n",
       "      <td>5.404270</td>\n",
       "      <td>9.842329</td>\n",
       "      <td>12.668243</td>\n",
       "      <td>9263.968713</td>\n",
       "    </tr>\n",
       "    <tr>\n",
       "      <th>std</th>\n",
       "      <td>1.727592e+03</td>\n",
       "      <td>NaN</td>\n",
       "      <td>NaN</td>\n",
       "      <td>NaN</td>\n",
       "      <td>6.522660</td>\n",
       "      <td>NaN</td>\n",
       "      <td>NaN</td>\n",
       "      <td>0.491770</td>\n",
       "      <td>3.936211</td>\n",
       "      <td>5.086590</td>\n",
       "      <td>4.125338</td>\n",
       "      <td>5023.065394</td>\n",
       "    </tr>\n",
       "    <tr>\n",
       "      <th>min</th>\n",
       "      <td>1.000001e+06</td>\n",
       "      <td>NaN</td>\n",
       "      <td>NaN</td>\n",
       "      <td>NaN</td>\n",
       "      <td>0.000000</td>\n",
       "      <td>NaN</td>\n",
       "      <td>NaN</td>\n",
       "      <td>0.000000</td>\n",
       "      <td>1.000000</td>\n",
       "      <td>2.000000</td>\n",
       "      <td>3.000000</td>\n",
       "      <td>12.000000</td>\n",
       "    </tr>\n",
       "    <tr>\n",
       "      <th>25%</th>\n",
       "      <td>1.001516e+06</td>\n",
       "      <td>NaN</td>\n",
       "      <td>NaN</td>\n",
       "      <td>NaN</td>\n",
       "      <td>2.000000</td>\n",
       "      <td>NaN</td>\n",
       "      <td>NaN</td>\n",
       "      <td>0.000000</td>\n",
       "      <td>1.000000</td>\n",
       "      <td>5.000000</td>\n",
       "      <td>9.000000</td>\n",
       "      <td>5823.000000</td>\n",
       "    </tr>\n",
       "    <tr>\n",
       "      <th>50%</th>\n",
       "      <td>1.003077e+06</td>\n",
       "      <td>NaN</td>\n",
       "      <td>NaN</td>\n",
       "      <td>NaN</td>\n",
       "      <td>7.000000</td>\n",
       "      <td>NaN</td>\n",
       "      <td>NaN</td>\n",
       "      <td>0.000000</td>\n",
       "      <td>5.000000</td>\n",
       "      <td>9.000000</td>\n",
       "      <td>14.000000</td>\n",
       "      <td>8047.000000</td>\n",
       "    </tr>\n",
       "    <tr>\n",
       "      <th>75%</th>\n",
       "      <td>1.004478e+06</td>\n",
       "      <td>NaN</td>\n",
       "      <td>NaN</td>\n",
       "      <td>NaN</td>\n",
       "      <td>14.000000</td>\n",
       "      <td>NaN</td>\n",
       "      <td>NaN</td>\n",
       "      <td>1.000000</td>\n",
       "      <td>8.000000</td>\n",
       "      <td>15.000000</td>\n",
       "      <td>16.000000</td>\n",
       "      <td>12054.000000</td>\n",
       "    </tr>\n",
       "    <tr>\n",
       "      <th>max</th>\n",
       "      <td>1.006040e+06</td>\n",
       "      <td>NaN</td>\n",
       "      <td>NaN</td>\n",
       "      <td>NaN</td>\n",
       "      <td>20.000000</td>\n",
       "      <td>NaN</td>\n",
       "      <td>NaN</td>\n",
       "      <td>1.000000</td>\n",
       "      <td>20.000000</td>\n",
       "      <td>18.000000</td>\n",
       "      <td>18.000000</td>\n",
       "      <td>23961.000000</td>\n",
       "    </tr>\n",
       "  </tbody>\n",
       "</table>\n",
       "</div>"
      ],
      "text/plain": [
       "             User_ID Product_ID  Gender     Age     Occupation City_Category  \\\n",
       "count   5.500680e+05     550068  550068  550068  550068.000000        550068   \n",
       "unique           NaN       3631       2       7            NaN             3   \n",
       "top              NaN  P00265242       M   26-35            NaN             B   \n",
       "freq             NaN       1880  414259  219587            NaN        231173   \n",
       "mean    1.003029e+06        NaN     NaN     NaN       8.076707           NaN   \n",
       "std     1.727592e+03        NaN     NaN     NaN       6.522660           NaN   \n",
       "min     1.000001e+06        NaN     NaN     NaN       0.000000           NaN   \n",
       "25%     1.001516e+06        NaN     NaN     NaN       2.000000           NaN   \n",
       "50%     1.003077e+06        NaN     NaN     NaN       7.000000           NaN   \n",
       "75%     1.004478e+06        NaN     NaN     NaN      14.000000           NaN   \n",
       "max     1.006040e+06        NaN     NaN     NaN      20.000000           NaN   \n",
       "\n",
       "       Stay_In_Current_City_Years  Marital_Status  Product_Category_1  \\\n",
       "count                      550068   550068.000000       550068.000000   \n",
       "unique                          5             NaN                 NaN   \n",
       "top                             1             NaN                 NaN   \n",
       "freq                       193821             NaN                 NaN   \n",
       "mean                          NaN        0.409653            5.404270   \n",
       "std                           NaN        0.491770            3.936211   \n",
       "min                           NaN        0.000000            1.000000   \n",
       "25%                           NaN        0.000000            1.000000   \n",
       "50%                           NaN        0.000000            5.000000   \n",
       "75%                           NaN        1.000000            8.000000   \n",
       "max                           NaN        1.000000           20.000000   \n",
       "\n",
       "        Product_Category_2  Product_Category_3       Purchase  \n",
       "count        376430.000000       166821.000000  550068.000000  \n",
       "unique                 NaN                 NaN            NaN  \n",
       "top                    NaN                 NaN            NaN  \n",
       "freq                   NaN                 NaN            NaN  \n",
       "mean              9.842329           12.668243    9263.968713  \n",
       "std               5.086590            4.125338    5023.065394  \n",
       "min               2.000000            3.000000      12.000000  \n",
       "25%               5.000000            9.000000    5823.000000  \n",
       "50%               9.000000           14.000000    8047.000000  \n",
       "75%              15.000000           16.000000   12054.000000  \n",
       "max              18.000000           18.000000   23961.000000  "
      ]
     },
     "execution_count": 11,
     "metadata": {},
     "output_type": "execute_result"
    }
   ],
   "source": [
    "#describing the trainset\n",
    "train.describe(include = 'all')"
   ]
  },
  {
   "cell_type": "raw",
   "metadata": {
    "ExecuteTime": {
     "end_time": "2021-07-31T05:09:48.783575Z",
     "start_time": "2021-07-31T05:09:48.770611Z"
    },
    "execution": {
     "iopub.execute_input": "2021-07-25T13:52:51.484038Z",
     "iopub.status.busy": "2021-07-25T13:52:51.483635Z",
     "iopub.status.idle": "2021-07-25T13:52:51.490254Z",
     "shell.execute_reply": "2021-07-25T13:52:51.489066Z",
     "shell.execute_reply.started": "2021-07-25T13:52:51.484004Z"
    }
   },
   "source": [
    "#creating a source feature to combine the train and test datasets for preprocessing\n",
    "train[\"source\"]=\"train\"\n",
    "test[\"source\"]=\"test\""
   ]
  },
  {
   "cell_type": "code",
   "execution_count": 12,
   "metadata": {
    "ExecuteTime": {
     "end_time": "2021-08-09T15:10:43.331043Z",
     "start_time": "2021-08-09T15:10:43.163039Z"
    },
    "execution": {
     "iopub.execute_input": "2021-07-25T13:52:53.026098Z",
     "iopub.status.busy": "2021-07-25T13:52:53.025672Z",
     "iopub.status.idle": "2021-07-25T13:52:53.116823Z",
     "shell.execute_reply": "2021-07-25T13:52:53.115800Z",
     "shell.execute_reply.started": "2021-07-25T13:52:53.026060Z"
    }
   },
   "outputs": [
    {
     "data": {
      "text/html": [
       "<div>\n",
       "<style scoped>\n",
       "    .dataframe tbody tr th:only-of-type {\n",
       "        vertical-align: middle;\n",
       "    }\n",
       "\n",
       "    .dataframe tbody tr th {\n",
       "        vertical-align: top;\n",
       "    }\n",
       "\n",
       "    .dataframe thead th {\n",
       "        text-align: right;\n",
       "    }\n",
       "</style>\n",
       "<table border=\"1\" class=\"dataframe\">\n",
       "  <thead>\n",
       "    <tr style=\"text-align: right;\">\n",
       "      <th></th>\n",
       "      <th>User_ID</th>\n",
       "      <th>Product_ID</th>\n",
       "      <th>Gender</th>\n",
       "      <th>Age</th>\n",
       "      <th>Occupation</th>\n",
       "      <th>City_Category</th>\n",
       "      <th>Stay_In_Current_City_Years</th>\n",
       "      <th>Marital_Status</th>\n",
       "      <th>Product_Category_1</th>\n",
       "      <th>Product_Category_2</th>\n",
       "      <th>Product_Category_3</th>\n",
       "      <th>Purchase</th>\n",
       "    </tr>\n",
       "  </thead>\n",
       "  <tbody>\n",
       "    <tr>\n",
       "      <th>0</th>\n",
       "      <td>1000001</td>\n",
       "      <td>P00069042</td>\n",
       "      <td>F</td>\n",
       "      <td>0-17</td>\n",
       "      <td>10</td>\n",
       "      <td>A</td>\n",
       "      <td>2</td>\n",
       "      <td>0</td>\n",
       "      <td>3</td>\n",
       "      <td>NaN</td>\n",
       "      <td>NaN</td>\n",
       "      <td>8370.0</td>\n",
       "    </tr>\n",
       "    <tr>\n",
       "      <th>1</th>\n",
       "      <td>1000001</td>\n",
       "      <td>P00248942</td>\n",
       "      <td>F</td>\n",
       "      <td>0-17</td>\n",
       "      <td>10</td>\n",
       "      <td>A</td>\n",
       "      <td>2</td>\n",
       "      <td>0</td>\n",
       "      <td>1</td>\n",
       "      <td>6.0</td>\n",
       "      <td>14.0</td>\n",
       "      <td>15200.0</td>\n",
       "    </tr>\n",
       "    <tr>\n",
       "      <th>2</th>\n",
       "      <td>1000001</td>\n",
       "      <td>P00087842</td>\n",
       "      <td>F</td>\n",
       "      <td>0-17</td>\n",
       "      <td>10</td>\n",
       "      <td>A</td>\n",
       "      <td>2</td>\n",
       "      <td>0</td>\n",
       "      <td>12</td>\n",
       "      <td>NaN</td>\n",
       "      <td>NaN</td>\n",
       "      <td>1422.0</td>\n",
       "    </tr>\n",
       "    <tr>\n",
       "      <th>3</th>\n",
       "      <td>1000001</td>\n",
       "      <td>P00085442</td>\n",
       "      <td>F</td>\n",
       "      <td>0-17</td>\n",
       "      <td>10</td>\n",
       "      <td>A</td>\n",
       "      <td>2</td>\n",
       "      <td>0</td>\n",
       "      <td>12</td>\n",
       "      <td>14.0</td>\n",
       "      <td>NaN</td>\n",
       "      <td>1057.0</td>\n",
       "    </tr>\n",
       "    <tr>\n",
       "      <th>4</th>\n",
       "      <td>1000002</td>\n",
       "      <td>P00285442</td>\n",
       "      <td>M</td>\n",
       "      <td>55+</td>\n",
       "      <td>16</td>\n",
       "      <td>C</td>\n",
       "      <td>4+</td>\n",
       "      <td>0</td>\n",
       "      <td>8</td>\n",
       "      <td>NaN</td>\n",
       "      <td>NaN</td>\n",
       "      <td>7969.0</td>\n",
       "    </tr>\n",
       "  </tbody>\n",
       "</table>\n",
       "</div>"
      ],
      "text/plain": [
       "   User_ID Product_ID Gender   Age  Occupation City_Category  \\\n",
       "0  1000001  P00069042      F  0-17          10             A   \n",
       "1  1000001  P00248942      F  0-17          10             A   \n",
       "2  1000001  P00087842      F  0-17          10             A   \n",
       "3  1000001  P00085442      F  0-17          10             A   \n",
       "4  1000002  P00285442      M   55+          16             C   \n",
       "\n",
       "  Stay_In_Current_City_Years  Marital_Status  Product_Category_1  \\\n",
       "0                          2               0                   3   \n",
       "1                          2               0                   1   \n",
       "2                          2               0                  12   \n",
       "3                          2               0                  12   \n",
       "4                         4+               0                   8   \n",
       "\n",
       "   Product_Category_2  Product_Category_3  Purchase  \n",
       "0                 NaN                 NaN    8370.0  \n",
       "1                 6.0                14.0   15200.0  \n",
       "2                 NaN                 NaN    1422.0  \n",
       "3                14.0                 NaN    1057.0  \n",
       "4                 NaN                 NaN    7969.0  "
      ]
     },
     "execution_count": 12,
     "metadata": {},
     "output_type": "execute_result"
    }
   ],
   "source": [
    "#combining the train and test datasets in a dataframe\n",
    "df = pd.concat([train,test])\n",
    "df.head()"
   ]
  },
  {
   "cell_type": "code",
   "execution_count": 13,
   "metadata": {
    "ExecuteTime": {
     "end_time": "2021-08-09T15:10:45.073037Z",
     "start_time": "2021-08-09T15:10:43.449071Z"
    }
   },
   "outputs": [
    {
     "data": {
      "text/html": [
       "<div>\n",
       "<style scoped>\n",
       "    .dataframe tbody tr th:only-of-type {\n",
       "        vertical-align: middle;\n",
       "    }\n",
       "\n",
       "    .dataframe tbody tr th {\n",
       "        vertical-align: top;\n",
       "    }\n",
       "\n",
       "    .dataframe thead th {\n",
       "        text-align: right;\n",
       "    }\n",
       "</style>\n",
       "<table border=\"1\" class=\"dataframe\">\n",
       "  <thead>\n",
       "    <tr style=\"text-align: right;\">\n",
       "      <th></th>\n",
       "      <th>User_ID</th>\n",
       "      <th>Product_ID</th>\n",
       "      <th>Gender</th>\n",
       "      <th>Age</th>\n",
       "      <th>Occupation</th>\n",
       "      <th>City_Category</th>\n",
       "      <th>Stay_In_Current_City_Years</th>\n",
       "      <th>Marital_Status</th>\n",
       "      <th>Product_Category_1</th>\n",
       "      <th>Product_Category_2</th>\n",
       "      <th>Product_Category_3</th>\n",
       "      <th>Purchase</th>\n",
       "    </tr>\n",
       "  </thead>\n",
       "  <tbody>\n",
       "    <tr>\n",
       "      <th>User_ID</th>\n",
       "      <td>1.000000</td>\n",
       "      <td>-0.000245</td>\n",
       "      <td>-0.039336</td>\n",
       "      <td>-0.040425</td>\n",
       "      <td>0.012752</td>\n",
       "      <td>0.022979</td>\n",
       "      <td>0.003012</td>\n",
       "      <td>0.024689</td>\n",
       "      <td>0.009394</td>\n",
       "      <td>0.001527</td>\n",
       "      <td>0.000198</td>\n",
       "      <td>0.012345</td>\n",
       "    </tr>\n",
       "    <tr>\n",
       "      <th>Product_ID</th>\n",
       "      <td>-0.000245</td>\n",
       "      <td>1.000000</td>\n",
       "      <td>-0.016172</td>\n",
       "      <td>-0.007178</td>\n",
       "      <td>0.001190</td>\n",
       "      <td>-0.011776</td>\n",
       "      <td>0.008092</td>\n",
       "      <td>0.013626</td>\n",
       "      <td>0.260639</td>\n",
       "      <td>-0.069900</td>\n",
       "      <td>-0.172093</td>\n",
       "      <td>0.086091</td>\n",
       "    </tr>\n",
       "    <tr>\n",
       "      <th>Gender</th>\n",
       "      <td>-0.039336</td>\n",
       "      <td>-0.016172</td>\n",
       "      <td>1.000000</td>\n",
       "      <td>-0.001278</td>\n",
       "      <td>-0.034558</td>\n",
       "      <td>-0.006635</td>\n",
       "      <td>-0.014917</td>\n",
       "      <td>-0.010945</td>\n",
       "      <td>-0.004874</td>\n",
       "      <td>0.022883</td>\n",
       "      <td>0.037437</td>\n",
       "      <td>0.015024</td>\n",
       "    </tr>\n",
       "    <tr>\n",
       "      <th>Age</th>\n",
       "      <td>-0.040425</td>\n",
       "      <td>-0.007178</td>\n",
       "      <td>-0.001278</td>\n",
       "      <td>1.000000</td>\n",
       "      <td>0.076782</td>\n",
       "      <td>0.040571</td>\n",
       "      <td>0.007373</td>\n",
       "      <td>-0.079586</td>\n",
       "      <td>-0.006740</td>\n",
       "      <td>0.005421</td>\n",
       "      <td>0.009039</td>\n",
       "      <td>0.001001</td>\n",
       "    </tr>\n",
       "    <tr>\n",
       "      <th>Occupation</th>\n",
       "      <td>0.012752</td>\n",
       "      <td>0.001190</td>\n",
       "      <td>-0.034558</td>\n",
       "      <td>0.076782</td>\n",
       "      <td>1.000000</td>\n",
       "      <td>0.023362</td>\n",
       "      <td>0.023051</td>\n",
       "      <td>-0.011901</td>\n",
       "      <td>0.002390</td>\n",
       "      <td>-0.007151</td>\n",
       "      <td>-0.005033</td>\n",
       "      <td>-0.001584</td>\n",
       "    </tr>\n",
       "    <tr>\n",
       "      <th>City_Category</th>\n",
       "      <td>0.022979</td>\n",
       "      <td>-0.011776</td>\n",
       "      <td>-0.006635</td>\n",
       "      <td>0.040571</td>\n",
       "      <td>0.023362</td>\n",
       "      <td>1.000000</td>\n",
       "      <td>-0.011536</td>\n",
       "      <td>0.016108</td>\n",
       "      <td>-0.005866</td>\n",
       "      <td>0.012284</td>\n",
       "      <td>0.010388</td>\n",
       "      <td>-0.000620</td>\n",
       "    </tr>\n",
       "    <tr>\n",
       "      <th>Stay_In_Current_City_Years</th>\n",
       "      <td>0.003012</td>\n",
       "      <td>0.008092</td>\n",
       "      <td>-0.014917</td>\n",
       "      <td>0.007373</td>\n",
       "      <td>0.023051</td>\n",
       "      <td>-0.011536</td>\n",
       "      <td>1.000000</td>\n",
       "      <td>0.010207</td>\n",
       "      <td>0.003010</td>\n",
       "      <td>-0.002629</td>\n",
       "      <td>-0.004197</td>\n",
       "      <td>-0.001201</td>\n",
       "    </tr>\n",
       "    <tr>\n",
       "      <th>Marital_Status</th>\n",
       "      <td>0.024689</td>\n",
       "      <td>0.013626</td>\n",
       "      <td>-0.010945</td>\n",
       "      <td>-0.079586</td>\n",
       "      <td>-0.011901</td>\n",
       "      <td>0.016108</td>\n",
       "      <td>0.010207</td>\n",
       "      <td>1.000000</td>\n",
       "      <td>0.011505</td>\n",
       "      <td>-0.001503</td>\n",
       "      <td>-0.010135</td>\n",
       "      <td>-0.000716</td>\n",
       "    </tr>\n",
       "    <tr>\n",
       "      <th>Product_Category_1</th>\n",
       "      <td>0.009394</td>\n",
       "      <td>0.260639</td>\n",
       "      <td>-0.004874</td>\n",
       "      <td>-0.006740</td>\n",
       "      <td>0.002390</td>\n",
       "      <td>-0.005866</td>\n",
       "      <td>0.003010</td>\n",
       "      <td>0.011505</td>\n",
       "      <td>1.000000</td>\n",
       "      <td>-0.099640</td>\n",
       "      <td>-0.216511</td>\n",
       "      <td>0.256880</td>\n",
       "    </tr>\n",
       "    <tr>\n",
       "      <th>Product_Category_2</th>\n",
       "      <td>0.001527</td>\n",
       "      <td>-0.069900</td>\n",
       "      <td>0.022883</td>\n",
       "      <td>0.005421</td>\n",
       "      <td>-0.007151</td>\n",
       "      <td>0.012284</td>\n",
       "      <td>-0.002629</td>\n",
       "      <td>-0.001503</td>\n",
       "      <td>-0.099640</td>\n",
       "      <td>1.000000</td>\n",
       "      <td>0.236419</td>\n",
       "      <td>0.067360</td>\n",
       "    </tr>\n",
       "    <tr>\n",
       "      <th>Product_Category_3</th>\n",
       "      <td>0.000198</td>\n",
       "      <td>-0.172093</td>\n",
       "      <td>0.037437</td>\n",
       "      <td>0.009039</td>\n",
       "      <td>-0.005033</td>\n",
       "      <td>0.010388</td>\n",
       "      <td>-0.004197</td>\n",
       "      <td>-0.010135</td>\n",
       "      <td>-0.216511</td>\n",
       "      <td>0.236419</td>\n",
       "      <td>1.000000</td>\n",
       "      <td>0.062272</td>\n",
       "    </tr>\n",
       "    <tr>\n",
       "      <th>Purchase</th>\n",
       "      <td>0.012345</td>\n",
       "      <td>0.086091</td>\n",
       "      <td>0.015024</td>\n",
       "      <td>0.001001</td>\n",
       "      <td>-0.001584</td>\n",
       "      <td>-0.000620</td>\n",
       "      <td>-0.001201</td>\n",
       "      <td>-0.000716</td>\n",
       "      <td>0.256880</td>\n",
       "      <td>0.067360</td>\n",
       "      <td>0.062272</td>\n",
       "      <td>1.000000</td>\n",
       "    </tr>\n",
       "  </tbody>\n",
       "</table>\n",
       "</div>"
      ],
      "text/plain": [
       "                             User_ID  Product_ID    Gender       Age  \\\n",
       "User_ID                     1.000000   -0.000245 -0.039336 -0.040425   \n",
       "Product_ID                 -0.000245    1.000000 -0.016172 -0.007178   \n",
       "Gender                     -0.039336   -0.016172  1.000000 -0.001278   \n",
       "Age                        -0.040425   -0.007178 -0.001278  1.000000   \n",
       "Occupation                  0.012752    0.001190 -0.034558  0.076782   \n",
       "City_Category               0.022979   -0.011776 -0.006635  0.040571   \n",
       "Stay_In_Current_City_Years  0.003012    0.008092 -0.014917  0.007373   \n",
       "Marital_Status              0.024689    0.013626 -0.010945 -0.079586   \n",
       "Product_Category_1          0.009394    0.260639 -0.004874 -0.006740   \n",
       "Product_Category_2          0.001527   -0.069900  0.022883  0.005421   \n",
       "Product_Category_3          0.000198   -0.172093  0.037437  0.009039   \n",
       "Purchase                    0.012345    0.086091  0.015024  0.001001   \n",
       "\n",
       "                            Occupation  City_Category  \\\n",
       "User_ID                       0.012752       0.022979   \n",
       "Product_ID                    0.001190      -0.011776   \n",
       "Gender                       -0.034558      -0.006635   \n",
       "Age                           0.076782       0.040571   \n",
       "Occupation                    1.000000       0.023362   \n",
       "City_Category                 0.023362       1.000000   \n",
       "Stay_In_Current_City_Years    0.023051      -0.011536   \n",
       "Marital_Status               -0.011901       0.016108   \n",
       "Product_Category_1            0.002390      -0.005866   \n",
       "Product_Category_2           -0.007151       0.012284   \n",
       "Product_Category_3           -0.005033       0.010388   \n",
       "Purchase                     -0.001584      -0.000620   \n",
       "\n",
       "                            Stay_In_Current_City_Years  Marital_Status  \\\n",
       "User_ID                                       0.003012        0.024689   \n",
       "Product_ID                                    0.008092        0.013626   \n",
       "Gender                                       -0.014917       -0.010945   \n",
       "Age                                           0.007373       -0.079586   \n",
       "Occupation                                    0.023051       -0.011901   \n",
       "City_Category                                -0.011536        0.016108   \n",
       "Stay_In_Current_City_Years                    1.000000        0.010207   \n",
       "Marital_Status                                0.010207        1.000000   \n",
       "Product_Category_1                            0.003010        0.011505   \n",
       "Product_Category_2                           -0.002629       -0.001503   \n",
       "Product_Category_3                           -0.004197       -0.010135   \n",
       "Purchase                                     -0.001201       -0.000716   \n",
       "\n",
       "                            Product_Category_1  Product_Category_2  \\\n",
       "User_ID                               0.009394            0.001527   \n",
       "Product_ID                            0.260639           -0.069900   \n",
       "Gender                               -0.004874            0.022883   \n",
       "Age                                  -0.006740            0.005421   \n",
       "Occupation                            0.002390           -0.007151   \n",
       "City_Category                        -0.005866            0.012284   \n",
       "Stay_In_Current_City_Years            0.003010           -0.002629   \n",
       "Marital_Status                        0.011505           -0.001503   \n",
       "Product_Category_1                    1.000000           -0.099640   \n",
       "Product_Category_2                   -0.099640            1.000000   \n",
       "Product_Category_3                   -0.216511            0.236419   \n",
       "Purchase                              0.256880            0.067360   \n",
       "\n",
       "                            Product_Category_3  Purchase  \n",
       "User_ID                               0.000198  0.012345  \n",
       "Product_ID                           -0.172093  0.086091  \n",
       "Gender                                0.037437  0.015024  \n",
       "Age                                   0.009039  0.001001  \n",
       "Occupation                           -0.005033 -0.001584  \n",
       "City_Category                         0.010388 -0.000620  \n",
       "Stay_In_Current_City_Years           -0.004197 -0.001201  \n",
       "Marital_Status                       -0.010135 -0.000716  \n",
       "Product_Category_1                   -0.216511  0.256880  \n",
       "Product_Category_2                    0.236419  0.067360  \n",
       "Product_Category_3                    1.000000  0.062272  \n",
       "Purchase                              0.062272  1.000000  "
      ]
     },
     "execution_count": 13,
     "metadata": {},
     "output_type": "execute_result"
    }
   ],
   "source": [
    "df_corr = df.apply(lambda x : pd.factorize(x)[0]).corr(method='pearson', min_periods=1)\n",
    "df_corr"
   ]
  },
  {
   "cell_type": "code",
   "execution_count": 14,
   "metadata": {
    "ExecuteTime": {
     "end_time": "2021-08-09T15:10:45.247036Z",
     "start_time": "2021-08-09T15:10:45.076029Z"
    },
    "execution": {
     "iopub.execute_input": "2021-07-25T13:52:54.996382Z",
     "iopub.status.busy": "2021-07-25T13:52:54.995993Z",
     "iopub.status.idle": "2021-07-25T13:52:55.051462Z",
     "shell.execute_reply": "2021-07-25T13:52:55.050584Z",
     "shell.execute_reply.started": "2021-07-25T13:52:54.996346Z"
    }
   },
   "outputs": [
    {
     "data": {
      "text/html": [
       "<div>\n",
       "<style scoped>\n",
       "    .dataframe tbody tr th:only-of-type {\n",
       "        vertical-align: middle;\n",
       "    }\n",
       "\n",
       "    .dataframe tbody tr th {\n",
       "        vertical-align: top;\n",
       "    }\n",
       "\n",
       "    .dataframe thead th {\n",
       "        text-align: right;\n",
       "    }\n",
       "</style>\n",
       "<table border=\"1\" class=\"dataframe\">\n",
       "  <thead>\n",
       "    <tr style=\"text-align: right;\">\n",
       "      <th></th>\n",
       "      <th>Product_ID</th>\n",
       "      <th>Gender</th>\n",
       "      <th>Age</th>\n",
       "      <th>City_Category</th>\n",
       "      <th>Stay_In_Current_City_Years</th>\n",
       "    </tr>\n",
       "  </thead>\n",
       "  <tbody>\n",
       "    <tr>\n",
       "      <th>0</th>\n",
       "      <td>P00069042</td>\n",
       "      <td>F</td>\n",
       "      <td>0-17</td>\n",
       "      <td>A</td>\n",
       "      <td>2</td>\n",
       "    </tr>\n",
       "    <tr>\n",
       "      <th>1</th>\n",
       "      <td>P00248942</td>\n",
       "      <td>F</td>\n",
       "      <td>0-17</td>\n",
       "      <td>A</td>\n",
       "      <td>2</td>\n",
       "    </tr>\n",
       "    <tr>\n",
       "      <th>2</th>\n",
       "      <td>P00087842</td>\n",
       "      <td>F</td>\n",
       "      <td>0-17</td>\n",
       "      <td>A</td>\n",
       "      <td>2</td>\n",
       "    </tr>\n",
       "    <tr>\n",
       "      <th>3</th>\n",
       "      <td>P00085442</td>\n",
       "      <td>F</td>\n",
       "      <td>0-17</td>\n",
       "      <td>A</td>\n",
       "      <td>2</td>\n",
       "    </tr>\n",
       "    <tr>\n",
       "      <th>4</th>\n",
       "      <td>P00285442</td>\n",
       "      <td>M</td>\n",
       "      <td>55+</td>\n",
       "      <td>C</td>\n",
       "      <td>4+</td>\n",
       "    </tr>\n",
       "  </tbody>\n",
       "</table>\n",
       "</div>"
      ],
      "text/plain": [
       "  Product_ID Gender   Age City_Category Stay_In_Current_City_Years\n",
       "0  P00069042      F  0-17             A                          2\n",
       "1  P00248942      F  0-17             A                          2\n",
       "2  P00087842      F  0-17             A                          2\n",
       "3  P00085442      F  0-17             A                          2\n",
       "4  P00285442      M   55+             C                         4+"
      ]
     },
     "execution_count": 14,
     "metadata": {},
     "output_type": "execute_result"
    }
   ],
   "source": [
    "#getting features with non numerical  or catagorical values\n",
    "df_catagory = df.select_dtypes(exclude=np.number)\n",
    "df_catagory.head()"
   ]
  },
  {
   "cell_type": "code",
   "execution_count": 15,
   "metadata": {
    "ExecuteTime": {
     "end_time": "2021-08-09T15:10:45.583065Z",
     "start_time": "2021-08-09T15:10:45.250063Z"
    },
    "execution": {
     "iopub.execute_input": "2021-07-25T13:52:58.320978Z",
     "iopub.status.busy": "2021-07-25T13:52:58.320604Z",
     "iopub.status.idle": "2021-07-25T13:52:58.342866Z",
     "shell.execute_reply": "2021-07-25T13:52:58.341865Z",
     "shell.execute_reply.started": "2021-07-25T13:52:58.320950Z"
    },
    "scrolled": true
   },
   "outputs": [
    {
     "data": {
      "text/plain": [
       "Product_ID                    0\n",
       "Gender                        0\n",
       "Age                           0\n",
       "City_Category                 0\n",
       "Stay_In_Current_City_Years    0\n",
       "dtype: int64"
      ]
     },
     "execution_count": 15,
     "metadata": {},
     "output_type": "execute_result"
    }
   ],
   "source": [
    "#check for null values in the df_catagory\n",
    "df_catagory.isna().sum()"
   ]
  },
  {
   "cell_type": "code",
   "execution_count": 16,
   "metadata": {
    "ExecuteTime": {
     "end_time": "2021-08-09T15:10:45.805034Z",
     "start_time": "2021-08-09T15:10:45.586057Z"
    }
   },
   "outputs": [
    {
     "data": {
      "text/plain": [
       "3677"
      ]
     },
     "execution_count": 16,
     "metadata": {},
     "output_type": "execute_result"
    }
   ],
   "source": [
    "df_catagory['Product_ID'].nunique()"
   ]
  },
  {
   "cell_type": "code",
   "execution_count": 17,
   "metadata": {
    "ExecuteTime": {
     "end_time": "2021-08-09T15:10:47.291028Z",
     "start_time": "2021-08-09T15:10:45.808126Z"
    }
   },
   "outputs": [],
   "source": [
    "df['Product_ID'] = df['Product_ID'].str.replace('P00', '').astype(int)"
   ]
  },
  {
   "cell_type": "code",
   "execution_count": null,
   "metadata": {
    "ExecuteTime": {
     "end_time": "2021-08-08T14:25:58.623437Z",
     "start_time": "2021-08-08T14:25:58.070876Z"
    }
   },
   "outputs": [],
   "source": []
  },
  {
   "cell_type": "code",
   "execution_count": 18,
   "metadata": {
    "ExecuteTime": {
     "end_time": "2021-08-09T15:10:47.307029Z",
     "start_time": "2021-08-09T15:10:47.294022Z"
    },
    "scrolled": true
   },
   "outputs": [
    {
     "data": {
      "text/plain": [
       "0      69042\n",
       "1     248942\n",
       "2      87842\n",
       "3      85442\n",
       "4     285442\n",
       "5     193542\n",
       "6     184942\n",
       "7     346142\n",
       "8      97242\n",
       "9     274942\n",
       "10    251242\n",
       "11     14542\n",
       "12     31342\n",
       "13    145042\n",
       "14    231342\n",
       "15    190242\n",
       "16     96642\n",
       "17     58442\n",
       "18     36842\n",
       "19    249542\n",
       "20    220442\n",
       "21    156442\n",
       "22    213742\n",
       "23    214442\n",
       "24    303442\n",
       "25    135742\n",
       "26     39942\n",
       "27    161442\n",
       "28     78742\n",
       "29     85942\n",
       "30    118742\n",
       "31    297942\n",
       "32    266842\n",
       "33     58342\n",
       "34     32442\n",
       "35    105942\n",
       "36    182642\n",
       "37    186942\n",
       "38    155442\n",
       "39    221342\n",
       "40     87242\n",
       "41    111142\n",
       "42    259342\n",
       "43     94542\n",
       "44    148642\n",
       "45    312142\n",
       "46    113242\n",
       "47    192642\n",
       "48    110842\n",
       "49    189642\n",
       "Name: Product_ID, dtype: int32"
      ]
     },
     "execution_count": 18,
     "metadata": {},
     "output_type": "execute_result"
    }
   ],
   "source": [
    "df['Product_ID'].head(50)"
   ]
  },
  {
   "cell_type": "code",
   "execution_count": 19,
   "metadata": {
    "ExecuteTime": {
     "end_time": "2021-08-09T15:10:49.541053Z",
     "start_time": "2021-08-09T15:10:49.389079Z"
    }
   },
   "outputs": [
    {
     "data": {
      "text/plain": [
       "M    590031\n",
       "F    193636\n",
       "Name: Gender, dtype: int64"
      ]
     },
     "execution_count": 19,
     "metadata": {},
     "output_type": "execute_result"
    }
   ],
   "source": [
    "df['Gender'].value_counts()"
   ]
  },
  {
   "cell_type": "code",
   "execution_count": 20,
   "metadata": {
    "ExecuteTime": {
     "end_time": "2021-08-09T15:10:50.303035Z",
     "start_time": "2021-08-09T15:10:49.758067Z"
    }
   },
   "outputs": [],
   "source": [
    "df['Gender'] = df['Gender'].replace({'M':0, 'F':1})"
   ]
  },
  {
   "cell_type": "code",
   "execution_count": 21,
   "metadata": {
    "ExecuteTime": {
     "end_time": "2021-08-09T15:10:50.493031Z",
     "start_time": "2021-08-09T15:10:50.306027Z"
    }
   },
   "outputs": [
    {
     "data": {
      "text/plain": [
       "26-35    313015\n",
       "36-45    156724\n",
       "18-25    141953\n",
       "46-50     65278\n",
       "51-55     54784\n",
       "55+       30579\n",
       "0-17      21334\n",
       "Name: Age, dtype: int64"
      ]
     },
     "execution_count": 21,
     "metadata": {},
     "output_type": "execute_result"
    }
   ],
   "source": [
    "df['Age'].value_counts()"
   ]
  },
  {
   "cell_type": "code",
   "execution_count": 22,
   "metadata": {
    "ExecuteTime": {
     "end_time": "2021-08-09T15:10:50.897047Z",
     "start_time": "2021-08-09T15:10:50.747018Z"
    }
   },
   "outputs": [],
   "source": [
    "df['Age'] = df['Age'].replace('55+',55).astype(str)"
   ]
  },
  {
   "cell_type": "code",
   "execution_count": 23,
   "metadata": {
    "ExecuteTime": {
     "end_time": "2021-08-09T15:10:52.787019Z",
     "start_time": "2021-08-09T15:10:52.777002Z"
    }
   },
   "outputs": [],
   "source": [
    "def Age_range_to_num(x):\n",
    "    tokens = x.split('-')\n",
    "    if len(tokens) == 2:\n",
    "        return (np.round(float(tokens[0])+float(tokens[1]))/2).astype(int)\n",
    "    try:\n",
    "        return float(x)\n",
    "    except:\n",
    "        pass"
   ]
  },
  {
   "cell_type": "code",
   "execution_count": 24,
   "metadata": {
    "ExecuteTime": {
     "end_time": "2021-08-09T15:11:10.776996Z",
     "start_time": "2021-08-09T15:10:53.816024Z"
    }
   },
   "outputs": [],
   "source": [
    "df['Age']=df.Age.apply(Age_range_to_num).astype(int)"
   ]
  },
  {
   "cell_type": "code",
   "execution_count": 25,
   "metadata": {
    "ExecuteTime": {
     "end_time": "2021-08-09T15:11:10.809023Z",
     "start_time": "2021-08-09T15:11:10.779991Z"
    }
   },
   "outputs": [
    {
     "data": {
      "text/plain": [
       "0      8\n",
       "1      8\n",
       "2      8\n",
       "3      8\n",
       "4     55\n",
       "5     30\n",
       "6     48\n",
       "7     48\n",
       "8     48\n",
       "9     30\n",
       "10    30\n",
       "11    30\n",
       "12    30\n",
       "13    30\n",
       "14    53\n",
       "15    53\n",
       "16    53\n",
       "17    53\n",
       "18    40\n",
       "19    30\n",
       "Name: Age, dtype: int32"
      ]
     },
     "execution_count": 25,
     "metadata": {},
     "output_type": "execute_result"
    }
   ],
   "source": [
    "df['Age'].head(20)"
   ]
  },
  {
   "cell_type": "code",
   "execution_count": 26,
   "metadata": {
    "ExecuteTime": {
     "end_time": "2021-08-09T15:11:10.965987Z",
     "start_time": "2021-08-09T15:11:10.813014Z"
    }
   },
   "outputs": [
    {
     "data": {
      "text/plain": [
       "B    329739\n",
       "C    243684\n",
       "A    210244\n",
       "Name: City_Category, dtype: int64"
      ]
     },
     "execution_count": 26,
     "metadata": {},
     "output_type": "execute_result"
    }
   ],
   "source": [
    "df['City_Category'].value_counts()"
   ]
  },
  {
   "cell_type": "code",
   "execution_count": 27,
   "metadata": {
    "ExecuteTime": {
     "end_time": "2021-08-09T15:11:11.057508Z",
     "start_time": "2021-08-09T15:11:10.971014Z"
    }
   },
   "outputs": [
    {
     "data": {
      "text/plain": [
       "array(['2', '4+', '3', '1', '0'], dtype=object)"
      ]
     },
     "execution_count": 27,
     "metadata": {},
     "output_type": "execute_result"
    }
   ],
   "source": [
    "df['Stay_In_Current_City_Years'].unique()"
   ]
  },
  {
   "cell_type": "code",
   "execution_count": 28,
   "metadata": {
    "ExecuteTime": {
     "end_time": "2021-08-09T15:11:11.260997Z",
     "start_time": "2021-08-09T15:11:11.061012Z"
    }
   },
   "outputs": [],
   "source": [
    "df['Stay_In_Current_City_Years'] = df['Stay_In_Current_City_Years'].replace('4+',4).astype(int)"
   ]
  },
  {
   "cell_type": "code",
   "execution_count": 29,
   "metadata": {
    "ExecuteTime": {
     "end_time": "2021-08-09T15:11:11.340011Z",
     "start_time": "2021-08-09T15:11:11.264001Z"
    },
    "scrolled": true
   },
   "outputs": [
    {
     "data": {
      "text/html": [
       "<div>\n",
       "<style scoped>\n",
       "    .dataframe tbody tr th:only-of-type {\n",
       "        vertical-align: middle;\n",
       "    }\n",
       "\n",
       "    .dataframe tbody tr th {\n",
       "        vertical-align: top;\n",
       "    }\n",
       "\n",
       "    .dataframe thead th {\n",
       "        text-align: right;\n",
       "    }\n",
       "</style>\n",
       "<table border=\"1\" class=\"dataframe\">\n",
       "  <thead>\n",
       "    <tr style=\"text-align: right;\">\n",
       "      <th></th>\n",
       "      <th>City_Category</th>\n",
       "    </tr>\n",
       "  </thead>\n",
       "  <tbody>\n",
       "    <tr>\n",
       "      <th>0</th>\n",
       "      <td>A</td>\n",
       "    </tr>\n",
       "    <tr>\n",
       "      <th>1</th>\n",
       "      <td>A</td>\n",
       "    </tr>\n",
       "    <tr>\n",
       "      <th>2</th>\n",
       "      <td>A</td>\n",
       "    </tr>\n",
       "    <tr>\n",
       "      <th>3</th>\n",
       "      <td>A</td>\n",
       "    </tr>\n",
       "    <tr>\n",
       "      <th>4</th>\n",
       "      <td>C</td>\n",
       "    </tr>\n",
       "  </tbody>\n",
       "</table>\n",
       "</div>"
      ],
      "text/plain": [
       "  City_Category\n",
       "0             A\n",
       "1             A\n",
       "2             A\n",
       "3             A\n",
       "4             C"
      ]
     },
     "execution_count": 29,
     "metadata": {},
     "output_type": "execute_result"
    }
   ],
   "source": [
    "df_catagory = df.select_dtypes(exclude=np.number)\n",
    "df_catagory.head()"
   ]
  },
  {
   "cell_type": "code",
   "execution_count": 30,
   "metadata": {
    "ExecuteTime": {
     "end_time": "2021-08-09T15:11:17.812962Z",
     "start_time": "2021-08-09T15:11:17.670941Z"
    }
   },
   "outputs": [
    {
     "data": {
      "text/html": [
       "<div>\n",
       "<style scoped>\n",
       "    .dataframe tbody tr th:only-of-type {\n",
       "        vertical-align: middle;\n",
       "    }\n",
       "\n",
       "    .dataframe tbody tr th {\n",
       "        vertical-align: top;\n",
       "    }\n",
       "\n",
       "    .dataframe thead th {\n",
       "        text-align: right;\n",
       "    }\n",
       "</style>\n",
       "<table border=\"1\" class=\"dataframe\">\n",
       "  <thead>\n",
       "    <tr style=\"text-align: right;\">\n",
       "      <th></th>\n",
       "      <th>City_Category_A</th>\n",
       "      <th>City_Category_B</th>\n",
       "      <th>City_Category_C</th>\n",
       "    </tr>\n",
       "  </thead>\n",
       "  <tbody>\n",
       "    <tr>\n",
       "      <th>0</th>\n",
       "      <td>1</td>\n",
       "      <td>0</td>\n",
       "      <td>0</td>\n",
       "    </tr>\n",
       "    <tr>\n",
       "      <th>1</th>\n",
       "      <td>1</td>\n",
       "      <td>0</td>\n",
       "      <td>0</td>\n",
       "    </tr>\n",
       "    <tr>\n",
       "      <th>2</th>\n",
       "      <td>1</td>\n",
       "      <td>0</td>\n",
       "      <td>0</td>\n",
       "    </tr>\n",
       "    <tr>\n",
       "      <th>3</th>\n",
       "      <td>1</td>\n",
       "      <td>0</td>\n",
       "      <td>0</td>\n",
       "    </tr>\n",
       "    <tr>\n",
       "      <th>4</th>\n",
       "      <td>0</td>\n",
       "      <td>0</td>\n",
       "      <td>1</td>\n",
       "    </tr>\n",
       "  </tbody>\n",
       "</table>\n",
       "</div>"
      ],
      "text/plain": [
       "   City_Category_A  City_Category_B  City_Category_C\n",
       "0                1                0                0\n",
       "1                1                0                0\n",
       "2                1                0                0\n",
       "3                1                0                0\n",
       "4                0                0                1"
      ]
     },
     "execution_count": 30,
     "metadata": {},
     "output_type": "execute_result"
    }
   ],
   "source": [
    "df_cat_encoded = pd.get_dummies(df_catagory.select_dtypes(exclude=np.number))\n",
    "df_cat_encoded.head()"
   ]
  },
  {
   "cell_type": "code",
   "execution_count": 31,
   "metadata": {
    "ExecuteTime": {
     "end_time": "2021-08-09T15:11:18.942996Z",
     "start_time": "2021-08-09T15:11:18.929994Z"
    }
   },
   "outputs": [],
   "source": [
    "del df['City_Category']"
   ]
  },
  {
   "cell_type": "code",
   "execution_count": 32,
   "metadata": {
    "ExecuteTime": {
     "end_time": "2021-08-09T15:11:19.777215Z",
     "start_time": "2021-08-09T15:11:19.647560Z"
    }
   },
   "outputs": [
    {
     "data": {
      "text/html": [
       "<div>\n",
       "<style scoped>\n",
       "    .dataframe tbody tr th:only-of-type {\n",
       "        vertical-align: middle;\n",
       "    }\n",
       "\n",
       "    .dataframe tbody tr th {\n",
       "        vertical-align: top;\n",
       "    }\n",
       "\n",
       "    .dataframe thead th {\n",
       "        text-align: right;\n",
       "    }\n",
       "</style>\n",
       "<table border=\"1\" class=\"dataframe\">\n",
       "  <thead>\n",
       "    <tr style=\"text-align: right;\">\n",
       "      <th></th>\n",
       "      <th>User_ID</th>\n",
       "      <th>Product_ID</th>\n",
       "      <th>Gender</th>\n",
       "      <th>Age</th>\n",
       "      <th>Occupation</th>\n",
       "      <th>Stay_In_Current_City_Years</th>\n",
       "      <th>Marital_Status</th>\n",
       "      <th>Product_Category_1</th>\n",
       "      <th>Product_Category_2</th>\n",
       "      <th>Product_Category_3</th>\n",
       "    </tr>\n",
       "  </thead>\n",
       "  <tbody>\n",
       "    <tr>\n",
       "      <th>0</th>\n",
       "      <td>1000001</td>\n",
       "      <td>69042</td>\n",
       "      <td>1</td>\n",
       "      <td>8</td>\n",
       "      <td>10</td>\n",
       "      <td>2</td>\n",
       "      <td>0</td>\n",
       "      <td>3</td>\n",
       "      <td>NaN</td>\n",
       "      <td>NaN</td>\n",
       "    </tr>\n",
       "    <tr>\n",
       "      <th>1</th>\n",
       "      <td>1000001</td>\n",
       "      <td>248942</td>\n",
       "      <td>1</td>\n",
       "      <td>8</td>\n",
       "      <td>10</td>\n",
       "      <td>2</td>\n",
       "      <td>0</td>\n",
       "      <td>1</td>\n",
       "      <td>6.0</td>\n",
       "      <td>14.0</td>\n",
       "    </tr>\n",
       "    <tr>\n",
       "      <th>2</th>\n",
       "      <td>1000001</td>\n",
       "      <td>87842</td>\n",
       "      <td>1</td>\n",
       "      <td>8</td>\n",
       "      <td>10</td>\n",
       "      <td>2</td>\n",
       "      <td>0</td>\n",
       "      <td>12</td>\n",
       "      <td>NaN</td>\n",
       "      <td>NaN</td>\n",
       "    </tr>\n",
       "    <tr>\n",
       "      <th>3</th>\n",
       "      <td>1000001</td>\n",
       "      <td>85442</td>\n",
       "      <td>1</td>\n",
       "      <td>8</td>\n",
       "      <td>10</td>\n",
       "      <td>2</td>\n",
       "      <td>0</td>\n",
       "      <td>12</td>\n",
       "      <td>14.0</td>\n",
       "      <td>NaN</td>\n",
       "    </tr>\n",
       "    <tr>\n",
       "      <th>4</th>\n",
       "      <td>1000002</td>\n",
       "      <td>285442</td>\n",
       "      <td>0</td>\n",
       "      <td>55</td>\n",
       "      <td>16</td>\n",
       "      <td>4</td>\n",
       "      <td>0</td>\n",
       "      <td>8</td>\n",
       "      <td>NaN</td>\n",
       "      <td>NaN</td>\n",
       "    </tr>\n",
       "  </tbody>\n",
       "</table>\n",
       "</div>"
      ],
      "text/plain": [
       "   User_ID  Product_ID  Gender  Age  Occupation  Stay_In_Current_City_Years  \\\n",
       "0  1000001       69042       1    8          10                           2   \n",
       "1  1000001      248942       1    8          10                           2   \n",
       "2  1000001       87842       1    8          10                           2   \n",
       "3  1000001       85442       1    8          10                           2   \n",
       "4  1000002      285442       0   55          16                           4   \n",
       "\n",
       "   Marital_Status  Product_Category_1  Product_Category_2  Product_Category_3  \n",
       "0               0                   3                 NaN                 NaN  \n",
       "1               0                   1                 6.0                14.0  \n",
       "2               0                  12                 NaN                 NaN  \n",
       "3               0                  12                14.0                 NaN  \n",
       "4               0                   8                 NaN                 NaN  "
      ]
     },
     "execution_count": 32,
     "metadata": {},
     "output_type": "execute_result"
    }
   ],
   "source": [
    "df_numeric = df.select_dtypes(include=np.number).drop(columns = 'Purchase')\n",
    "df_numeric.head()"
   ]
  },
  {
   "cell_type": "code",
   "execution_count": 33,
   "metadata": {
    "ExecuteTime": {
     "end_time": "2021-08-09T15:11:20.250218Z",
     "start_time": "2021-08-09T15:11:20.199355Z"
    }
   },
   "outputs": [],
   "source": [
    "df_numeric = df_numeric.fillna(0)"
   ]
  },
  {
   "cell_type": "code",
   "execution_count": 34,
   "metadata": {
    "ExecuteTime": {
     "end_time": "2021-08-09T15:11:20.722036Z",
     "start_time": "2021-08-09T15:11:20.705006Z"
    }
   },
   "outputs": [],
   "source": [
    "df_numeric['User_ID'] = df_numeric['User_ID']-1000000"
   ]
  },
  {
   "cell_type": "code",
   "execution_count": 35,
   "metadata": {
    "ExecuteTime": {
     "end_time": "2021-08-09T15:11:21.330997Z",
     "start_time": "2021-08-09T15:11:21.244974Z"
    }
   },
   "outputs": [],
   "source": [
    "df_numeric['User_ID'] = LabelEncoder().fit_transform(df['User_ID'])"
   ]
  },
  {
   "cell_type": "code",
   "execution_count": 36,
   "metadata": {
    "ExecuteTime": {
     "end_time": "2021-08-09T15:11:21.908927Z",
     "start_time": "2021-08-09T15:11:21.894901Z"
    },
    "scrolled": true
   },
   "outputs": [
    {
     "data": {
      "text/plain": [
       "0      0\n",
       "1      0\n",
       "2      0\n",
       "3      0\n",
       "4      1\n",
       "5      2\n",
       "6      3\n",
       "7      3\n",
       "8      3\n",
       "9      4\n",
       "10     4\n",
       "11     4\n",
       "12     4\n",
       "13     4\n",
       "14     5\n",
       "15     5\n",
       "16     5\n",
       "17     5\n",
       "18     6\n",
       "19     7\n",
       "20     7\n",
       "21     7\n",
       "22     7\n",
       "23     7\n",
       "24     7\n",
       "25     8\n",
       "26     8\n",
       "27     8\n",
       "28     8\n",
       "29     9\n",
       "30     9\n",
       "31     9\n",
       "32     9\n",
       "33     9\n",
       "34     9\n",
       "35     9\n",
       "36     9\n",
       "37     9\n",
       "38     9\n",
       "39     9\n",
       "40     9\n",
       "41     9\n",
       "42     9\n",
       "43     9\n",
       "44     9\n",
       "45     9\n",
       "46     9\n",
       "47    10\n",
       "48    10\n",
       "49    10\n",
       "Name: User_ID, dtype: int64"
      ]
     },
     "execution_count": 36,
     "metadata": {},
     "output_type": "execute_result"
    }
   ],
   "source": [
    "df_numeric['User_ID'].head(50)"
   ]
  },
  {
   "cell_type": "code",
   "execution_count": 37,
   "metadata": {
    "ExecuteTime": {
     "end_time": "2021-08-09T15:11:22.466063Z",
     "start_time": "2021-08-09T15:11:22.434147Z"
    }
   },
   "outputs": [
    {
     "data": {
      "text/plain": [
       "User_ID                       0\n",
       "Product_ID                    0\n",
       "Gender                        0\n",
       "Age                           0\n",
       "Occupation                    0\n",
       "Stay_In_Current_City_Years    0\n",
       "Marital_Status                0\n",
       "Product_Category_1            0\n",
       "Product_Category_2            0\n",
       "Product_Category_3            0\n",
       "dtype: int64"
      ]
     },
     "execution_count": 37,
     "metadata": {},
     "output_type": "execute_result"
    }
   ],
   "source": [
    "df_numeric.isna().sum()"
   ]
  },
  {
   "cell_type": "code",
   "execution_count": 38,
   "metadata": {
    "ExecuteTime": {
     "end_time": "2021-08-09T15:11:25.720781Z",
     "start_time": "2021-08-09T15:11:25.673740Z"
    }
   },
   "outputs": [],
   "source": [
    "df_numeric['Product_ID'] = StandardScaler().fit_transform(df_numeric['Product_ID'].values.reshape(-1, 1))"
   ]
  },
  {
   "cell_type": "code",
   "execution_count": 40,
   "metadata": {
    "ExecuteTime": {
     "end_time": "2021-08-09T15:11:36.410764Z",
     "start_time": "2021-08-09T15:11:36.374860Z"
    }
   },
   "outputs": [
    {
     "data": {
      "text/html": [
       "<div>\n",
       "<style scoped>\n",
       "    .dataframe tbody tr th:only-of-type {\n",
       "        vertical-align: middle;\n",
       "    }\n",
       "\n",
       "    .dataframe tbody tr th {\n",
       "        vertical-align: top;\n",
       "    }\n",
       "\n",
       "    .dataframe thead th {\n",
       "        text-align: right;\n",
       "    }\n",
       "</style>\n",
       "<table border=\"1\" class=\"dataframe\">\n",
       "  <thead>\n",
       "    <tr style=\"text-align: right;\">\n",
       "      <th></th>\n",
       "      <th>User_ID</th>\n",
       "      <th>Product_ID</th>\n",
       "      <th>Gender</th>\n",
       "      <th>Age</th>\n",
       "      <th>Occupation</th>\n",
       "      <th>Stay_In_Current_City_Years</th>\n",
       "      <th>Marital_Status</th>\n",
       "      <th>Product_Category_1</th>\n",
       "      <th>Product_Category_2</th>\n",
       "      <th>Product_Category_3</th>\n",
       "    </tr>\n",
       "  </thead>\n",
       "  <tbody>\n",
       "    <tr>\n",
       "      <th>0</th>\n",
       "      <td>0</td>\n",
       "      <td>-1.027277</td>\n",
       "      <td>1</td>\n",
       "      <td>8</td>\n",
       "      <td>10</td>\n",
       "      <td>2</td>\n",
       "      <td>0</td>\n",
       "      <td>3</td>\n",
       "      <td>0.0</td>\n",
       "      <td>0.0</td>\n",
       "    </tr>\n",
       "    <tr>\n",
       "      <th>1</th>\n",
       "      <td>0</td>\n",
       "      <td>0.728995</td>\n",
       "      <td>1</td>\n",
       "      <td>8</td>\n",
       "      <td>10</td>\n",
       "      <td>2</td>\n",
       "      <td>0</td>\n",
       "      <td>1</td>\n",
       "      <td>6.0</td>\n",
       "      <td>14.0</td>\n",
       "    </tr>\n",
       "    <tr>\n",
       "      <th>2</th>\n",
       "      <td>0</td>\n",
       "      <td>-0.843742</td>\n",
       "      <td>1</td>\n",
       "      <td>8</td>\n",
       "      <td>10</td>\n",
       "      <td>2</td>\n",
       "      <td>0</td>\n",
       "      <td>12</td>\n",
       "      <td>0.0</td>\n",
       "      <td>0.0</td>\n",
       "    </tr>\n",
       "    <tr>\n",
       "      <th>3</th>\n",
       "      <td>0</td>\n",
       "      <td>-0.867172</td>\n",
       "      <td>1</td>\n",
       "      <td>8</td>\n",
       "      <td>10</td>\n",
       "      <td>2</td>\n",
       "      <td>0</td>\n",
       "      <td>12</td>\n",
       "      <td>14.0</td>\n",
       "      <td>0.0</td>\n",
       "    </tr>\n",
       "    <tr>\n",
       "      <th>4</th>\n",
       "      <td>1</td>\n",
       "      <td>1.085326</td>\n",
       "      <td>0</td>\n",
       "      <td>55</td>\n",
       "      <td>16</td>\n",
       "      <td>4</td>\n",
       "      <td>0</td>\n",
       "      <td>8</td>\n",
       "      <td>0.0</td>\n",
       "      <td>0.0</td>\n",
       "    </tr>\n",
       "  </tbody>\n",
       "</table>\n",
       "</div>"
      ],
      "text/plain": [
       "   User_ID  Product_ID  Gender  Age  Occupation  Stay_In_Current_City_Years  \\\n",
       "0        0   -1.027277       1    8          10                           2   \n",
       "1        0    0.728995       1    8          10                           2   \n",
       "2        0   -0.843742       1    8          10                           2   \n",
       "3        0   -0.867172       1    8          10                           2   \n",
       "4        1    1.085326       0   55          16                           4   \n",
       "\n",
       "   Marital_Status  Product_Category_1  Product_Category_2  Product_Category_3  \n",
       "0               0                   3                 0.0                 0.0  \n",
       "1               0                   1                 6.0                14.0  \n",
       "2               0                  12                 0.0                 0.0  \n",
       "3               0                  12                14.0                 0.0  \n",
       "4               0                   8                 0.0                 0.0  "
      ]
     },
     "execution_count": 40,
     "metadata": {},
     "output_type": "execute_result"
    }
   ],
   "source": [
    "df_numeric.head()"
   ]
  },
  {
   "cell_type": "code",
   "execution_count": 41,
   "metadata": {
    "ExecuteTime": {
     "end_time": "2021-08-09T15:11:49.881520Z",
     "start_time": "2021-08-09T15:11:41.442762Z"
    }
   },
   "outputs": [],
   "source": [
    "preprocessed_data = pd.concat([df_numeric,df_cat_encoded, df['Purchase']] , axis = 1)\n",
    "\n",
    "preprocessed_data.to_csv('preprocessed_AV_BSF.csv', index = False)"
   ]
  },
  {
   "cell_type": "code",
   "execution_count": 42,
   "metadata": {
    "ExecuteTime": {
     "end_time": "2021-08-09T15:11:51.608921Z",
     "start_time": "2021-08-09T15:11:49.884513Z"
    }
   },
   "outputs": [],
   "source": [
    "preprocessed_data= pd.read_csv('preprocessed_AV_BSF.csv')"
   ]
  },
  {
   "cell_type": "code",
   "execution_count": 43,
   "metadata": {
    "ExecuteTime": {
     "end_time": "2021-08-09T15:11:51.640914Z",
     "start_time": "2021-08-09T15:11:51.611914Z"
    }
   },
   "outputs": [
    {
     "data": {
      "text/html": [
       "<div>\n",
       "<style scoped>\n",
       "    .dataframe tbody tr th:only-of-type {\n",
       "        vertical-align: middle;\n",
       "    }\n",
       "\n",
       "    .dataframe tbody tr th {\n",
       "        vertical-align: top;\n",
       "    }\n",
       "\n",
       "    .dataframe thead th {\n",
       "        text-align: right;\n",
       "    }\n",
       "</style>\n",
       "<table border=\"1\" class=\"dataframe\">\n",
       "  <thead>\n",
       "    <tr style=\"text-align: right;\">\n",
       "      <th></th>\n",
       "      <th>User_ID</th>\n",
       "      <th>Product_ID</th>\n",
       "      <th>Gender</th>\n",
       "      <th>Age</th>\n",
       "      <th>Occupation</th>\n",
       "      <th>Stay_In_Current_City_Years</th>\n",
       "      <th>Marital_Status</th>\n",
       "      <th>Product_Category_1</th>\n",
       "      <th>Product_Category_2</th>\n",
       "      <th>Product_Category_3</th>\n",
       "      <th>City_Category_A</th>\n",
       "      <th>City_Category_B</th>\n",
       "      <th>City_Category_C</th>\n",
       "      <th>Purchase</th>\n",
       "    </tr>\n",
       "  </thead>\n",
       "  <tbody>\n",
       "    <tr>\n",
       "      <th>0</th>\n",
       "      <td>0</td>\n",
       "      <td>-1.027277</td>\n",
       "      <td>1</td>\n",
       "      <td>8</td>\n",
       "      <td>10</td>\n",
       "      <td>2</td>\n",
       "      <td>0</td>\n",
       "      <td>3</td>\n",
       "      <td>0.0</td>\n",
       "      <td>0.0</td>\n",
       "      <td>1</td>\n",
       "      <td>0</td>\n",
       "      <td>0</td>\n",
       "      <td>8370.0</td>\n",
       "    </tr>\n",
       "    <tr>\n",
       "      <th>1</th>\n",
       "      <td>0</td>\n",
       "      <td>0.728995</td>\n",
       "      <td>1</td>\n",
       "      <td>8</td>\n",
       "      <td>10</td>\n",
       "      <td>2</td>\n",
       "      <td>0</td>\n",
       "      <td>1</td>\n",
       "      <td>6.0</td>\n",
       "      <td>14.0</td>\n",
       "      <td>1</td>\n",
       "      <td>0</td>\n",
       "      <td>0</td>\n",
       "      <td>15200.0</td>\n",
       "    </tr>\n",
       "    <tr>\n",
       "      <th>2</th>\n",
       "      <td>0</td>\n",
       "      <td>-0.843742</td>\n",
       "      <td>1</td>\n",
       "      <td>8</td>\n",
       "      <td>10</td>\n",
       "      <td>2</td>\n",
       "      <td>0</td>\n",
       "      <td>12</td>\n",
       "      <td>0.0</td>\n",
       "      <td>0.0</td>\n",
       "      <td>1</td>\n",
       "      <td>0</td>\n",
       "      <td>0</td>\n",
       "      <td>1422.0</td>\n",
       "    </tr>\n",
       "    <tr>\n",
       "      <th>3</th>\n",
       "      <td>0</td>\n",
       "      <td>-0.867172</td>\n",
       "      <td>1</td>\n",
       "      <td>8</td>\n",
       "      <td>10</td>\n",
       "      <td>2</td>\n",
       "      <td>0</td>\n",
       "      <td>12</td>\n",
       "      <td>14.0</td>\n",
       "      <td>0.0</td>\n",
       "      <td>1</td>\n",
       "      <td>0</td>\n",
       "      <td>0</td>\n",
       "      <td>1057.0</td>\n",
       "    </tr>\n",
       "    <tr>\n",
       "      <th>4</th>\n",
       "      <td>1</td>\n",
       "      <td>1.085326</td>\n",
       "      <td>0</td>\n",
       "      <td>55</td>\n",
       "      <td>16</td>\n",
       "      <td>4</td>\n",
       "      <td>0</td>\n",
       "      <td>8</td>\n",
       "      <td>0.0</td>\n",
       "      <td>0.0</td>\n",
       "      <td>0</td>\n",
       "      <td>0</td>\n",
       "      <td>1</td>\n",
       "      <td>7969.0</td>\n",
       "    </tr>\n",
       "  </tbody>\n",
       "</table>\n",
       "</div>"
      ],
      "text/plain": [
       "   User_ID  Product_ID  Gender  Age  Occupation  Stay_In_Current_City_Years  \\\n",
       "0        0   -1.027277       1    8          10                           2   \n",
       "1        0    0.728995       1    8          10                           2   \n",
       "2        0   -0.843742       1    8          10                           2   \n",
       "3        0   -0.867172       1    8          10                           2   \n",
       "4        1    1.085326       0   55          16                           4   \n",
       "\n",
       "   Marital_Status  Product_Category_1  Product_Category_2  Product_Category_3  \\\n",
       "0               0                   3                 0.0                 0.0   \n",
       "1               0                   1                 6.0                14.0   \n",
       "2               0                  12                 0.0                 0.0   \n",
       "3               0                  12                14.0                 0.0   \n",
       "4               0                   8                 0.0                 0.0   \n",
       "\n",
       "   City_Category_A  City_Category_B  City_Category_C  Purchase  \n",
       "0                1                0                0    8370.0  \n",
       "1                1                0                0   15200.0  \n",
       "2                1                0                0    1422.0  \n",
       "3                1                0                0    1057.0  \n",
       "4                0                0                1    7969.0  "
      ]
     },
     "execution_count": 43,
     "metadata": {},
     "output_type": "execute_result"
    }
   ],
   "source": [
    "preprocessed_data.head()"
   ]
  },
  {
   "cell_type": "code",
   "execution_count": 44,
   "metadata": {
    "ExecuteTime": {
     "end_time": "2021-08-09T15:11:52.094323Z",
     "start_time": "2021-08-09T15:11:51.644902Z"
    }
   },
   "outputs": [
    {
     "data": {
      "text/plain": [
       "User_ID                            0\n",
       "Product_ID                         0\n",
       "Gender                             0\n",
       "Age                                0\n",
       "Occupation                         0\n",
       "Stay_In_Current_City_Years         0\n",
       "Marital_Status                     0\n",
       "Product_Category_1                 0\n",
       "Product_Category_2                 0\n",
       "Product_Category_3                 0\n",
       "City_Category_A                    0\n",
       "City_Category_B                    0\n",
       "City_Category_C                    0\n",
       "Purchase                      233599\n",
       "dtype: int64"
      ]
     },
     "execution_count": 44,
     "metadata": {},
     "output_type": "execute_result"
    }
   ],
   "source": [
    "preprocessed_data.isna().sum()"
   ]
  },
  {
   "cell_type": "code",
   "execution_count": 45,
   "metadata": {
    "ExecuteTime": {
     "end_time": "2021-08-09T15:11:52.656334Z",
     "start_time": "2021-08-09T15:11:52.097317Z"
    }
   },
   "outputs": [],
   "source": [
    "train_processed = preprocessed_data.dropna(subset=['Purchase'])"
   ]
  },
  {
   "cell_type": "code",
   "execution_count": 46,
   "metadata": {
    "ExecuteTime": {
     "end_time": "2021-08-09T15:11:53.046295Z",
     "start_time": "2021-08-09T15:11:52.659328Z"
    }
   },
   "outputs": [],
   "source": [
    "test_processed = preprocessed_data[preprocessed_data['Purchase'].isna()]"
   ]
  },
  {
   "cell_type": "code",
   "execution_count": null,
   "metadata": {
    "ExecuteTime": {
     "end_time": "2021-08-08T15:03:50.258585Z",
     "start_time": "2021-08-08T15:03:50.215686Z"
    }
   },
   "outputs": [],
   "source": []
  },
  {
   "cell_type": "code",
   "execution_count": 47,
   "metadata": {
    "ExecuteTime": {
     "end_time": "2021-08-09T15:11:53.373429Z",
     "start_time": "2021-08-09T15:11:53.049283Z"
    }
   },
   "outputs": [],
   "source": [
    "train_X = train_processed.drop(columns=[\"Purchase\"])\n",
    "train_y = train_processed['Purchase']\n",
    "test_X = test_processed.drop(columns=[\"Purchase\"])"
   ]
  },
  {
   "cell_type": "code",
   "execution_count": 48,
   "metadata": {
    "ExecuteTime": {
     "end_time": "2021-08-09T15:11:53.813297Z",
     "start_time": "2021-08-09T15:11:53.377415Z"
    }
   },
   "outputs": [],
   "source": [
    "def mean_absolute_percentage_error(y_true, y_pred): \n",
    "    y_true, y_pred = np.array(y_true), np.array(y_pred)\n",
    "    return np.mean(np.abs((y_true - y_pred) / y_true)) * 100"
   ]
  },
  {
   "cell_type": "code",
   "execution_count": 49,
   "metadata": {
    "ExecuteTime": {
     "end_time": "2021-08-09T15:11:56.906027Z",
     "start_time": "2021-08-09T15:11:53.816291Z"
    }
   },
   "outputs": [],
   "source": [
    "sample = pd.read_csv(\"sample_AV_BFS.csv\")\n",
    "def run_model(model, train_X, train_y, test_X, sample, filename ):\n",
    "    model.fit(train_X, train_y)\n",
    "    pd.Series(model.coef_,index=test_X.columns).plot(kind = \"bar\")\n",
    "    pred_train = model.predict(train_X)\n",
    "    pred_test = model.predict(test_X)\n",
    "    pred_test = abs(pred_test)\n",
    "    print(\"Mean Absolute Error of train data = \",mean_absolute_error(train_y,pred_train))\n",
    "    print(\"RMSE of train data = \",np.sqrt(mean_squared_error(train_y, pred_train)))\n",
    "    score = cross_val_score(model, train_X, train_y, cv = 10, scoring = \"neg_root_mean_squared_error\" )\n",
    "    print(\"Cross validation Score  = \",np.mean(np.abs(score)))\n",
    "    print(\"Mean Absolute Percentage Error of train data = \", mean_absolute_percentage_error(train_y, pred_train))\n",
    "    sample[\"Purchase\"] = pred_test\n",
    "    sample.to_csv(filename, index = False)\n"
   ]
  },
  {
   "cell_type": "code",
   "execution_count": 50,
   "metadata": {
    "ExecuteTime": {
     "end_time": "2021-08-09T15:12:09.518919Z",
     "start_time": "2021-08-09T15:11:56.909020Z"
    },
    "scrolled": true
   },
   "outputs": [
    {
     "name": "stdout",
     "output_type": "stream",
     "text": [
      "Mean Absolute Error of train data =  3525.1673709228994\n",
      "RMSE of train data =  4615.750289351168\n",
      "Cross validation Score  =  4618.6892983326525\n",
      "Mean Absolute Percentage Error of train data =  109.5150955981779\n"
     ]
    },
    {
     "data": {
      "image/png": "[encoded data removed]",
      "text/plain": [
       "<Figure size 1080x936 with 1 Axes>"
      ]
     },
     "metadata": {
      "needs_background": "light"
     },
     "output_type": "display_data"
    }
   ],
   "source": [
    "LR_model = LinearRegression()\n",
    "run_model(LR_model, train_X, train_y, test_X, sample, \"BFS_AV_predresults_LR.csv\" )"
   ]
  },
  {
   "cell_type": "code",
   "execution_count": 51,
   "metadata": {
    "ExecuteTime": {
     "end_time": "2021-08-09T15:12:09.614857Z",
     "start_time": "2021-08-09T15:12:09.522909Z"
    }
   },
   "outputs": [
    {
     "name": "stdout",
     "output_type": "stream",
     "text": [
      "Training set score_LR: 0.16\n",
      "Number of features used_LR: 13\n"
     ]
    }
   ],
   "source": [
    "print(\"Training set score_LR: {:.2f}\".format(LR_model.score(train_X, train_y)))\n",
    "print(\"Number of features used_LR: {}\".format(np.sum(LR_model.coef_ != 0)))"
   ]
  },
  {
   "cell_type": "code",
   "execution_count": 52,
   "metadata": {
    "ExecuteTime": {
     "end_time": "2021-08-09T15:12:14.668479Z",
     "start_time": "2021-08-09T15:12:09.618892Z"
    },
    "scrolled": true
   },
   "outputs": [
    {
     "name": "stdout",
     "output_type": "stream",
     "text": [
      "Mean Absolute Error of train data =  3526.7532123938486\n",
      "RMSE of train data =  4615.772723450004\n",
      "Cross validation Score  =  4618.725938392709\n",
      "Mean Absolute Percentage Error of train data =  110.13361547942992\n"
     ]
    },
    {
     "data": {
      "image/png": "[encoded data removed]",
      "text/plain": [
       "<Figure size 1080x936 with 1 Axes>"
      ]
     },
     "metadata": {
      "needs_background": "light"
     },
     "output_type": "display_data"
    }
   ],
   "source": [
    "Ridge_model = Ridge(alpha=0.01,normalize=True)\n",
    "run_model(Ridge_model, train_X, train_y, test_X, sample, \"BFS_AV_predresults_ridge.csv\" )"
   ]
  },
  {
   "cell_type": "code",
   "execution_count": 53,
   "metadata": {
    "ExecuteTime": {
     "end_time": "2021-08-09T15:12:14.764544Z",
     "start_time": "2021-08-09T15:12:14.671471Z"
    }
   },
   "outputs": [
    {
     "name": "stdout",
     "output_type": "stream",
     "text": [
      "Training set score_Ridge: 0.16\n",
      "Number of features used_Ridge: 13\n"
     ]
    }
   ],
   "source": [
    "print(\"Training set score_Ridge: {:.2f}\".format(Ridge_model.score(train_X, train_y)))\n",
    "print(\"Number of features used_Ridge: {}\".format(np.sum(Ridge_model.coef_ != 0)))"
   ]
  },
  {
   "cell_type": "code",
   "execution_count": 54,
   "metadata": {
    "ExecuteTime": {
     "end_time": "2021-08-09T15:12:20.438857Z",
     "start_time": "2021-08-09T15:12:14.767540Z"
    },
    "scrolled": true
   },
   "outputs": [
    {
     "name": "stdout",
     "output_type": "stream",
     "text": [
      "Mean Absolute Error of train data =  3726.42440962805\n",
      "RMSE of train data =  4724.764269477509\n",
      "Cross validation Score  =  4721.6912806700275\n",
      "Mean Absolute Percentage Error of train data =  145.6073706054146\n"
     ]
    },
    {
     "data": {
      "image/png": "[encoded data removed]",
      "text/plain": [
       "<Figure size 1080x936 with 1 Axes>"
      ]
     },
     "metadata": {
      "needs_background": "light"
     },
     "output_type": "display_data"
    }
   ],
   "source": [
    "Lasso_model = Lasso(alpha=1,normalize=True)\n",
    "run_model(Lasso_model, train_X, train_y, test_X, sample, \"BFS_AV_predresults_lasso.csv\" )"
   ]
  },
  {
   "cell_type": "code",
   "execution_count": 55,
   "metadata": {
    "ExecuteTime": {
     "end_time": "2021-08-09T15:12:20.534847Z",
     "start_time": "2021-08-09T15:12:20.441847Z"
    }
   },
   "outputs": [
    {
     "name": "stdout",
     "output_type": "stream",
     "text": [
      "Training set score_Lasso: 0.12\n",
      "Number of features used_Lasso: 2\n"
     ]
    }
   ],
   "source": [
    "print(\"Training set score_Lasso: {:.2f}\".format(Lasso_model.score(train_X, train_y)))\n",
    "print(\"Number of features used_Lasso: {}\".format(np.sum(Lasso_model.coef_ != 0)))"
   ]
  },
  {
   "cell_type": "code",
   "execution_count": 56,
   "metadata": {
    "ExecuteTime": {
     "end_time": "2021-08-09T15:12:29.650826Z",
     "start_time": "2021-08-09T15:12:20.542884Z"
    },
    "scrolled": true
   },
   "outputs": [
    {
     "name": "stdout",
     "output_type": "stream",
     "text": [
      "Mean Absolute Error of train data =  3524.2914480185445\n",
      "RMSE of train data =  4615.953221881109\n",
      "Cross validation Score  =  4618.917143271132\n",
      "Mean Absolute Percentage Error of train data =  109.6647804907182\n"
     ]
    },
    {
     "data": {
      "image/png": "[encoded data removed]",
      "text/plain": [
       "<Figure size 1080x936 with 1 Axes>"
      ]
     },
     "metadata": {
      "needs_background": "light"
     },
     "output_type": "display_data"
    }
   ],
   "source": [
    "ElasticNet_model = ElasticNet(alpha=10,l1_ratio=1, max_iter=1000000)\n",
    "run_model(ElasticNet_model, train_X, train_y, test_X, sample, \"BFS_AV_predresults_elasticnet.csv\" )"
   ]
  },
  {
   "cell_type": "code",
   "execution_count": 57,
   "metadata": {
    "ExecuteTime": {
     "end_time": "2021-08-09T15:12:29.746807Z",
     "start_time": "2021-08-09T15:12:29.654815Z"
    },
    "scrolled": true
   },
   "outputs": [
    {
     "name": "stdout",
     "output_type": "stream",
     "text": [
      "Training set score_elasticnet: 0.16\n",
      "Number of features used_elasticnet: 12\n"
     ]
    }
   ],
   "source": [
    "print(\"Training set score_elasticnet: {:.2f}\".format(ElasticNet_model.score(train_X, train_y)))\n",
    "print(\"Number of features used_elasticnet: {}\".format(np.sum(ElasticNet_model.coef_ != 0)))"
   ]
  },
  {
   "cell_type": "code",
   "execution_count": 58,
   "metadata": {
    "ExecuteTime": {
     "end_time": "2021-08-09T15:12:30.343805Z",
     "start_time": "2021-08-09T15:12:29.749844Z"
    },
    "scrolled": true
   },
   "outputs": [
    {
     "data": {
      "text/plain": [
       "Text(0, 0.5, 'coefficient magnitude')"
      ]
     },
     "execution_count": 58,
     "metadata": {},
     "output_type": "execute_result"
    },
    {
     "data": {
      "image/png": "[encoded data removed]",
      "text/plain": [
       "<Figure size 1080x936 with 1 Axes>"
      ]
     },
     "metadata": {
      "needs_background": "light"
     },
     "output_type": "display_data"
    }
   ],
   "source": [
    "plt.plot(LR_model.coef_,'s',label = \"Linear Regression\")\n",
    "plt.plot(Ridge_model.coef_,'^',label = \"Ridge alpha = 0.01\")\n",
    "plt.plot(Lasso_model.coef_,'v',label = \"Lasso alpha = 1\")\n",
    "plt.plot(ElasticNet_model.coef_, label = \"ElasticNet alpha=10\")\n",
    "plt.legend(ncol=2, loc=(0, 1.05), fontsize = 12)\n",
    "plt.ylim(-30, 30)\n",
    "plt.xlabel(\"coefficient index\", fontsize = 16)\n",
    "plt.ylabel(\"coefficient magnitude\", fontsize = 16)"
   ]
  },
  {
   "cell_type": "code",
   "execution_count": 59,
   "metadata": {
    "ExecuteTime": {
     "end_time": "2021-08-09T15:12:30.563812Z",
     "start_time": "2021-08-09T15:12:30.346801Z"
    }
   },
   "outputs": [],
   "source": [
    "sample = pd.read_csv(\"sample_AV_BFS.csv\")\n",
    "def run_model_1(model, train_X, train_y, test_X, sample, filename ):\n",
    "    model.fit(train_X, train_y)\n",
    "    pred_train = model.predict(train_X)\n",
    "    pred_test = model.predict(test_X)\n",
    "    pred_test = abs(pred_test)\n",
    "    print(\"Mean Absolute Error of train data = \",mean_absolute_error(train_y,pred_train))\n",
    "    print(\"RMSE of train data = \",np.sqrt(mean_squared_error(train_y, pred_train)))\n",
    "    score = cross_val_score(model, train_X, train_y, cv = 10, scoring = \"neg_root_mean_squared_error\" )\n",
    "    print(\"Cross validation Score  = \",np.mean(np.abs(score)))\n",
    "    print(\"Mean Absolute Percentage Error of train data = \", mean_absolute_percentage_error(train_y, pred_train))\n",
    "    sample[\"Purchase\"] = pred_test\n",
    "    sample.to_csv(filename, index = False)\n"
   ]
  },
  {
   "cell_type": "code",
   "execution_count": 63,
   "metadata": {
    "ExecuteTime": {
     "end_time": "2021-08-08T15:45:55.595204Z",
     "start_time": "2021-08-08T15:27:58.235091Z"
    },
    "scrolled": true
   },
   "outputs": [
    {
     "name": "stdout",
     "output_type": "stream",
     "text": [
      "1\n",
      "Mean Absolute Error of train data =  0.0\n",
      "RMSE of train data =  0.0\n",
      "Cross validation Score  =  4785.353904292583\n",
      "Mean Absolute Percentage Error of train data =  0.0\n",
      "2\n",
      "Mean Absolute Error of train data =  1581.718692052619\n",
      "RMSE of train data =  2347.3409929663417\n",
      "Cross validation Score  =  4356.801258862521\n",
      "Mean Absolute Percentage Error of train data =  70.57625666117151\n",
      "3\n",
      "Mean Absolute Error of train data =  1996.2022737794846\n",
      "RMSE of train data =  2844.2266306657402\n",
      "Cross validation Score  =  4244.289015294918\n",
      "Mean Absolute Percentage Error of train data =  96.74938568331054\n",
      "4\n",
      "Mean Absolute Error of train data =  2220.622761640379\n",
      "RMSE of train data =  3116.6838802151447\n",
      "Cross validation Score  =  4209.55130278095\n",
      "Mean Absolute Percentage Error of train data =  110.87937245355222\n"
     ]
    }
   ],
   "source": [
    "res = []\n",
    "for i in range(1,5):\n",
    "    model = KNeighborsRegressor(n_neighbors=i)\n",
    "    print(i)\n",
    "    err = run_model_1(model, train_X, train_y, test_X, sample, str(i)[:-2]+\".csv\")\n",
    "    res.append(err)"
   ]
  },
  {
   "cell_type": "code",
   "execution_count": 65,
   "metadata": {
    "ExecuteTime": {
     "end_time": "2021-08-08T16:54:03.964431Z",
     "start_time": "2021-08-08T15:51:45.606549Z"
    },
    "scrolled": false
   },
   "outputs": [
    {
     "name": "stdout",
     "output_type": "stream",
     "text": [
      "7\n",
      "Mean Absolute Error of train data =  2564.078502502028\n",
      "RMSE of train data =  3537.8522521765444\n",
      "Cross validation Score  =  4214.781353470991\n",
      "Mean Absolute Percentage Error of train data =  132.71147371644386\n",
      "8\n",
      "Mean Absolute Error of train data =  2633.734080377335\n",
      "RMSE of train data =  3622.6583330905946\n",
      "Cross validation Score  =  4227.302342879144\n",
      "Mean Absolute Percentage Error of train data =  136.7287836599557\n",
      "9\n",
      "Mean Absolute Error of train data =  2692.891559669794\n",
      "RMSE of train data =  3693.753121443704\n",
      "Cross validation Score  =  4239.520175868276\n",
      "Mean Absolute Percentage Error of train data =  139.91581969672063\n",
      "10\n",
      "Mean Absolute Error of train data =  2743.3674380258435\n",
      "RMSE of train data =  3753.762930285717\n",
      "Cross validation Score  =  4250.84572637074\n",
      "Mean Absolute Percentage Error of train data =  142.2886041134395\n",
      "11\n",
      "Mean Absolute Error of train data =  2785.434425958576\n",
      "RMSE of train data =  3803.8463039199596\n",
      "Cross validation Score  =  4262.182697342756\n",
      "Mean Absolute Percentage Error of train data =  144.37761844831755\n",
      "12\n",
      "Mean Absolute Error of train data =  2823.865378462299\n",
      "RMSE of train data =  3848.8036358191707\n",
      "Cross validation Score  =  4273.447515255907\n",
      "Mean Absolute Percentage Error of train data =  146.3250755100528\n",
      "13\n",
      "Mean Absolute Error of train data =  2857.178677489385\n",
      "RMSE of train data =  3887.5199860261446\n",
      "Cross validation Score  =  4284.080655050531\n",
      "Mean Absolute Percentage Error of train data =  147.99534566043843\n",
      "14\n",
      "Mean Absolute Error of train data =  2886.9844043957164\n",
      "RMSE of train data =  3922.205001742487\n",
      "Cross validation Score  =  4294.918717348724\n",
      "Mean Absolute Percentage Error of train data =  149.18541073611115\n",
      "15\n",
      "Mean Absolute Error of train data =  2914.1707585244017\n",
      "RMSE of train data =  3953.4624858123607\n",
      "Cross validation Score  =  4304.629296842832\n",
      "Mean Absolute Percentage Error of train data =  150.75004751280684\n",
      "16\n",
      "Mean Absolute Error of train data =  2939.547927824378\n",
      "RMSE of train data =  3981.9232136640794\n",
      "Cross validation Score  =  4313.772642802913\n",
      "Mean Absolute Percentage Error of train data =  151.86189984751618\n",
      "17\n",
      "Mean Absolute Error of train data =  2962.2340744823427\n",
      "RMSE of train data =  4007.925276761249\n",
      "Cross validation Score  =  4322.938241271053\n",
      "Mean Absolute Percentage Error of train data =  152.75453042002528\n",
      "18\n",
      "Mean Absolute Error of train data =  2983.5034881545957\n",
      "RMSE of train data =  4031.7402058255025\n",
      "Cross validation Score  =  4331.479837843066\n",
      "Mean Absolute Percentage Error of train data =  153.46983783268564\n",
      "19\n",
      "Mean Absolute Error of train data =  3003.299465558901\n",
      "RMSE of train data =  4053.474583991638\n",
      "Cross validation Score  =  4339.279396912121\n",
      "Mean Absolute Percentage Error of train data =  154.08396002667575\n"
     ]
    }
   ],
   "source": [
    "for i in range(7,20):\n",
    "    model = KNeighborsRegressor(n_neighbors=i)\n",
    "    print(i)\n",
    "    err = run_model_1(model, train_X, train_y, test_X, sample, str(i)[:-2]+\".csv\")"
   ]
  },
  {
   "cell_type": "code",
   "execution_count": 60,
   "metadata": {
    "ExecuteTime": {
     "end_time": "2021-08-09T15:17:53.171121Z",
     "start_time": "2021-08-09T15:12:30.566804Z"
    }
   },
   "outputs": [
    {
     "name": "stdout",
     "output_type": "stream",
     "text": [
      "Mean Absolute Error of train data =  1996.2022737794846\n",
      "RMSE of train data =  2844.2266306657402\n",
      "Cross validation Score  =  4244.289015294918\n",
      "Mean Absolute Percentage Error of train data =  96.74938568331054\n"
     ]
    }
   ],
   "source": [
    "KNeighborsRegressor_model = KNeighborsRegressor(n_neighbors=3)\n",
    "run_model_1(KNeighborsRegressor_model, train_X, train_y, test_X, sample, \"BFS_AV_predresults_KNeighborsRegression.csv\" )"
   ]
  },
  {
   "cell_type": "code",
   "execution_count": 62,
   "metadata": {
    "ExecuteTime": {
     "end_time": "2021-08-09T15:18:53.969102Z",
     "start_time": "2021-08-09T15:18:41.393618Z"
    }
   },
   "outputs": [
    {
     "name": "stdout",
     "output_type": "stream",
     "text": [
      "Training set score KNeighborsRegressor: 0.68\n"
     ]
    }
   ],
   "source": [
    "print(\"Training set score KNeighborsRegressor: {:.2f}\".format(KNeighborsRegressor_model.score(train_X, train_y)))"
   ]
  },
  {
   "cell_type": "code",
   "execution_count": 63,
   "metadata": {
    "ExecuteTime": {
     "end_time": "2021-08-09T15:19:50.971896Z",
     "start_time": "2021-08-09T15:18:59.019283Z"
    }
   },
   "outputs": [
    {
     "name": "stdout",
     "output_type": "stream",
     "text": [
      "Mean Absolute Error of train data =  2023.6211890299203\n",
      "RMSE of train data =  2711.173994265325\n",
      "Cross validation Score  =  2805.6851007013906\n",
      "Mean Absolute Percentage Error of train data =  31.154716171755815\n"
     ]
    }
   ],
   "source": [
    "DecisionTreeRegressor_model = DecisionTreeRegressor(max_depth = 12, random_state=0)\n",
    "run_model_1(DecisionTreeRegressor_model, train_X, train_y, test_X, sample, \"BFS_AV_predresults_DecisionTreeRegression.csv\" )"
   ]
  },
  {
   "cell_type": "code",
   "execution_count": 64,
   "metadata": {
    "ExecuteTime": {
     "end_time": "2021-08-09T15:19:51.241888Z",
     "start_time": "2021-08-09T15:19:50.975928Z"
    }
   },
   "outputs": [
    {
     "name": "stdout",
     "output_type": "stream",
     "text": [
      "Training set score DecisionTreeRegressor: 0.71\n",
      "Number of features used DecisionTreeRegressor: 13\n"
     ]
    }
   ],
   "source": [
    "print(\"Training set score DecisionTreeRegressor: {:.2f}\".format(DecisionTreeRegressor_model.score(train_X, train_y)))\n",
    "print(\"Number of features used DecisionTreeRegressor: {}\".format(np.sum(DecisionTreeRegressor_model.feature_importances_ != 0)))"
   ]
  },
  {
   "cell_type": "code",
   "execution_count": 65,
   "metadata": {
    "ExecuteTime": {
     "end_time": "2021-08-09T15:27:35.682356Z",
     "start_time": "2021-08-09T15:21:49.234620Z"
    },
    "scrolled": true
   },
   "outputs": [
    {
     "name": "stdout",
     "output_type": "stream",
     "text": [
      "Mean Absolute Error of train data =  1931.5833013264935\n",
      "RMSE of train data =  2580.339305602867\n",
      "Cross validation Score  =  2637.281661812444\n",
      "Mean Absolute Percentage Error of train data =  32.70759394541384\n"
     ]
    }
   ],
   "source": [
    "XGBRegressor_model = XGBRegressor(max_depth = 6, random_state=0)\n",
    "run_model_1(XGBRegressor_model, train_X, train_y, test_X, sample, \"BFS_AV_predresult_XGBRegression.csv\" )"
   ]
  },
  {
   "cell_type": "code",
   "execution_count": 66,
   "metadata": {
    "ExecuteTime": {
     "end_time": "2021-08-09T15:27:36.612927Z",
     "start_time": "2021-08-09T15:27:35.685352Z"
    }
   },
   "outputs": [
    {
     "name": "stdout",
     "output_type": "stream",
     "text": [
      "Training set score XGBRegressor: 0.74\n",
      "Number of features used XGBRegressor: 13\n"
     ]
    }
   ],
   "source": [
    "print(\"Training set score XGBRegressor: {:.2f}\".format(XGBRegressor_model.score(train_X, train_y)))\n",
    "print(\"Number of features used XGBRegressor: {}\".format(np.sum(XGBRegressor_model.feature_importances_ != 0)))"
   ]
  },
  {
   "cell_type": "code",
   "execution_count": 67,
   "metadata": {
    "ExecuteTime": {
     "end_time": "2021-08-09T15:46:28.271326Z",
     "start_time": "2021-08-09T15:39:26.649021Z"
    }
   },
   "outputs": [
    {
     "name": "stdout",
     "output_type": "stream",
     "text": [
      "Mean Absolute Error of train data =  1873.6340361988991\n",
      "RMSE of train data =  2509.222646566423\n",
      "Cross validation Score  =  2587.9479992162783\n",
      "Mean Absolute Percentage Error of train data =  31.89266580562019\n"
     ]
    }
   ],
   "source": [
    "XGBRegressor_model = XGBRegressor(max_depth = 7, random_state=0)\n",
    "run_model_1(XGBRegressor_model, train_X, train_y, test_X, sample, \"BFS_AV_predresult_XGBRegression_7.csv\" )"
   ]
  },
  {
   "cell_type": "code",
   "execution_count": 68,
   "metadata": {
    "ExecuteTime": {
     "end_time": "2021-08-09T15:46:29.418973Z",
     "start_time": "2021-08-09T15:46:28.271326Z"
    }
   },
   "outputs": [
    {
     "name": "stdout",
     "output_type": "stream",
     "text": [
      "Training set score XGBRegressor when depth=7: 0.75\n",
      "Number of features used XGBRegressor when depth=7: 13\n"
     ]
    }
   ],
   "source": [
    "print(\"Training set score XGBRegressor when depth=7: {:.2f}\".format(XGBRegressor_model.score(train_X, train_y)))\n",
    "print(\"Number of features used XGBRegressor when depth=7: {}\".format(np.sum(XGBRegressor_model.feature_importances_ != 0)))"
   ]
  },
  {
   "cell_type": "code",
   "execution_count": 69,
   "metadata": {
    "ExecuteTime": {
     "end_time": "2021-08-09T15:58:05.319104Z",
     "start_time": "2021-08-09T15:49:24.586271Z"
    }
   },
   "outputs": [
    {
     "name": "stdout",
     "output_type": "stream",
     "text": [
      "Mean Absolute Error of train data =  1810.7900032057782\n",
      "RMSE of train data =  2426.4192489031034\n",
      "Cross validation Score  =  2564.7889669379447\n",
      "Mean Absolute Percentage Error of train data =  31.254427925298923\n"
     ]
    }
   ],
   "source": [
    "XGBRegressor_model = XGBRegressor(max_depth = 8, random_state=0)\n",
    "run_model_1(XGBRegressor_model, train_X, train_y, test_X, sample, \"BFS_AV_predresult_XGBRegression_8.csv\" )"
   ]
  },
  {
   "cell_type": "code",
   "execution_count": 70,
   "metadata": {
    "ExecuteTime": {
     "end_time": "2021-08-09T15:58:06.967608Z",
     "start_time": "2021-08-09T15:58:05.319104Z"
    }
   },
   "outputs": [
    {
     "name": "stdout",
     "output_type": "stream",
     "text": [
      "Training set score XGBRegressor when depth=8: 0.77\n",
      "Number of features used XGBRegressor when depth=8: 13\n"
     ]
    }
   ],
   "source": [
    "print(\"Training set score XGBRegressor when depth=8: {:.2f}\".format(XGBRegressor_model.score(train_X, train_y)))\n",
    "print(\"Number of features used XGBRegressor when depth=8: {}\".format(np.sum(XGBRegressor_model.feature_importances_ != 0)))"
   ]
  },
  {
   "cell_type": "code",
   "execution_count": 71,
   "metadata": {
    "ExecuteTime": {
     "end_time": "2021-08-09T16:09:48.794526Z",
     "start_time": "2021-08-09T15:58:11.183326Z"
    }
   },
   "outputs": [
    {
     "name": "stdout",
     "output_type": "stream",
     "text": [
      "Mean Absolute Error of train data =  1643.9737798828307\n",
      "RMSE of train data =  2206.535593656424\n",
      "Cross validation Score  =  2534.8588710629256\n",
      "Mean Absolute Percentage Error of train data =  28.56783010371236\n"
     ]
    }
   ],
   "source": [
    "XGBRegressor_model = XGBRegressor(max_depth = 10, random_state=0)\n",
    "run_model_1(XGBRegressor_model, train_X, train_y, test_X, sample, \"BFS_AV_predresult_XGBRegression_10.csv\" )"
   ]
  },
  {
   "cell_type": "code",
   "execution_count": 72,
   "metadata": {
    "ExecuteTime": {
     "end_time": "2021-08-09T16:09:52.096690Z",
     "start_time": "2021-08-09T16:09:48.797518Z"
    }
   },
   "outputs": [
    {
     "name": "stdout",
     "output_type": "stream",
     "text": [
      "Training set score XGBRegressor when depth=10: 0.81\n",
      "Number of features used XGBRegressor when depth=10: 13\n"
     ]
    }
   ],
   "source": [
    "print(\"Training set score XGBRegressor when depth=10: {:.2f}\".format(XGBRegressor_model.score(train_X, train_y)))\n",
    "print(\"Number of features used XGBRegressor when depth=10: {}\".format(np.sum(XGBRegressor_model.feature_importances_ != 0)))"
   ]
  },
  {
   "cell_type": "code",
   "execution_count": 73,
   "metadata": {
    "ExecuteTime": {
     "end_time": "2021-08-09T16:24:46.678761Z",
     "start_time": "2021-08-09T16:09:52.099682Z"
    }
   },
   "outputs": [
    {
     "name": "stdout",
     "output_type": "stream",
     "text": [
      "Mean Absolute Error of train data =  1440.8046400888372\n",
      "RMSE of train data =  1941.3974452701282\n",
      "Cross validation Score  =  2554.627664319893\n",
      "Mean Absolute Percentage Error of train data =  24.940998585432467\n"
     ]
    }
   ],
   "source": [
    "XGBRegressor_model = XGBRegressor(max_depth = 12, random_state=0)\n",
    "run_model_1(XGBRegressor_model, train_X, train_y, test_X, sample, \"BFS_AV_predresult_XGBRegression_12.csv\" )"
   ]
  },
  {
   "cell_type": "code",
   "execution_count": 74,
   "metadata": {
    "ExecuteTime": {
     "end_time": "2021-08-09T16:24:52.690676Z",
     "start_time": "2021-08-09T16:24:46.680757Z"
    }
   },
   "outputs": [
    {
     "name": "stdout",
     "output_type": "stream",
     "text": [
      "Training set score XGBRegressor when depth=12: 0.85\n",
      "Number of features used XGBRegressor when depth=12: 13\n"
     ]
    }
   ],
   "source": [
    "print(\"Training set score XGBRegressor when depth=12: {:.2f}\".format(XGBRegressor_model.score(train_X, train_y)))\n",
    "print(\"Number of features used XGBRegressor when depth=12: {}\".format(np.sum(XGBRegressor_model.feature_importances_ != 0)))"
   ]
  },
  {
   "cell_type": "code",
   "execution_count": 76,
   "metadata": {
    "ExecuteTime": {
     "end_time": "2021-08-08T17:26:25.168053Z",
     "start_time": "2021-08-08T17:16:37.543521Z"
    }
   },
   "outputs": [
    {
     "name": "stdout",
     "output_type": "stream",
     "text": [
      "Mean Absolute Error of train data =  2143.36539490963\n",
      "RMSE of train data =  2850.8016144678913\n",
      "Cross validation Score  =  2866.909010725125\n",
      "Mean Absolute Percentage Error of train data =  33.17679992431034\n"
     ]
    }
   ],
   "source": [
    "RandomForestRegressor_model = RandomForestRegressor(max_depth = 8,n_estimators=100, n_jobs=-1, random_state=42)\n",
    "run_model_1(RandomForestRegressor_model, train_X, train_y, test_X, sample, \"BFS_AV_predresults_RandomForestRegression.csv\" )"
   ]
  },
  {
   "cell_type": "code",
   "execution_count": 77,
   "metadata": {
    "ExecuteTime": {
     "end_time": "2021-08-08T17:26:26.766953Z",
     "start_time": "2021-08-08T17:26:25.171048Z"
    }
   },
   "outputs": [
    {
     "name": "stdout",
     "output_type": "stream",
     "text": [
      "Training set score RandomForestRegressor: 0.68\n",
      "Number of features used RandomForestRegressor: 13\n"
     ]
    }
   ],
   "source": [
    "print(\"Training set score RandomForestRegressor: {:.2f}\".format(RandomForestRegressor_model.score(train_X, train_y)))\n",
    "print(\"Number of features used RandomForestRegressor: {}\".format(np.sum(RandomForestRegressor_model.feature_importances_ != 0)))"
   ]
  },
  {
   "cell_type": "code",
   "execution_count": 80,
   "metadata": {
    "ExecuteTime": {
     "end_time": "2021-08-08T18:06:45.484701Z",
     "start_time": "2021-08-08T17:28:49.128596Z"
    }
   },
   "outputs": [
    {
     "name": "stdout",
     "output_type": "stream",
     "text": [
      "Mean Absolute Error of train data =  2047.8070629899576\n",
      "RMSE of train data =  2719.07998217001\n",
      "Cross validation Score  =  2747.9750175485556\n",
      "Mean Absolute Percentage Error of train data =  33.54812528251909\n"
     ]
    }
   ],
   "source": [
    "GradientBoostingRegressor_model = GradientBoostingRegressor(max_depth = 6, random_state=42)\n",
    "run_model_1(GradientBoostingRegressor_model,train_X, train_y, test_X, sample, \"BFS_AV_predresults_GradientBoostingRegression.csv\" )"
   ]
  },
  {
   "cell_type": "code",
   "execution_count": 81,
   "metadata": {
    "ExecuteTime": {
     "end_time": "2021-08-08T18:06:48.113668Z",
     "start_time": "2021-08-08T18:06:45.487694Z"
    }
   },
   "outputs": [
    {
     "name": "stdout",
     "output_type": "stream",
     "text": [
      "Training set score GradientBoostingRegressor: 0.71\n",
      "Number of features used GradientBoostingRegressor: 13\n"
     ]
    }
   ],
   "source": [
    "print(\"Training set score GradientBoostingRegressor: {:.2f}\".format(GradientBoostingRegressor_model.score(train_X, train_y)))\n",
    "print(\"Number of features used GradientBoostingRegressor: {}\".format(np.sum(GradientBoostingRegressor_model.feature_importances_ != 0)))"
   ]
  },
  {
   "cell_type": "code",
   "execution_count": null,
   "metadata": {},
   "outputs": [],
   "source": []
  }
 ],
 "metadata": {
  "kernelspec": {
   "display_name": "Python 3",
   "language": "python",
   "name": "python3"
  },
  "language_info": {
   "codemirror_mode": {
    "name": "ipython",
    "version": 3
   },
   "file_extension": ".py",
   "mimetype": "text/x-python",
   "name": "python",
   "nbconvert_exporter": "python",
   "pygments_lexer": "ipython3",
   "version": "3.8.8"
  }
 },
 "nbformat": 4,
 "nbformat_minor": 4
}
